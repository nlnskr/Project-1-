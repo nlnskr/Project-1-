{
 "cells": [
  {
   "cell_type": "code",
   "execution_count": 1,
   "id": "5411537d",
   "metadata": {},
   "outputs": [],
   "source": [
    "import numpy as np\n",
    "import pandas as pd\n",
    "import matplotlib.pyplot as plt\n",
    "from sklearn import datasets\n",
    "import seaborn as sns"
   ]
  },
  {
   "cell_type": "code",
   "execution_count": 2,
   "id": "e764e662",
   "metadata": {},
   "outputs": [
    {
     "data": {
      "text/html": [
       "<div>\n",
       "<style scoped>\n",
       "    .dataframe tbody tr th:only-of-type {\n",
       "        vertical-align: middle;\n",
       "    }\n",
       "\n",
       "    .dataframe tbody tr th {\n",
       "        vertical-align: top;\n",
       "    }\n",
       "\n",
       "    .dataframe thead th {\n",
       "        text-align: right;\n",
       "    }\n",
       "</style>\n",
       "<table border=\"1\" class=\"dataframe\">\n",
       "  <thead>\n",
       "    <tr style=\"text-align: right;\">\n",
       "      <th></th>\n",
       "      <th>table id</th>\n",
       "      <th>name</th>\n",
       "      <th>phone number</th>\n",
       "      <th>Location</th>\n",
       "      <th>Emp. Group</th>\n",
       "      <th>Function</th>\n",
       "      <th>Gender</th>\n",
       "      <th>Tenure</th>\n",
       "      <th>Tenure Grp.</th>\n",
       "      <th>Experience (YY.MM)</th>\n",
       "      <th>Marital Status</th>\n",
       "      <th>Age in YY.</th>\n",
       "      <th>Hiring Source</th>\n",
       "      <th>Promoted/Non Promoted</th>\n",
       "      <th>Job Role Match</th>\n",
       "      <th>Stay/Left</th>\n",
       "    </tr>\n",
       "  </thead>\n",
       "  <tbody>\n",
       "    <tr>\n",
       "      <th>0</th>\n",
       "      <td>1</td>\n",
       "      <td>sid</td>\n",
       "      <td>9876544345</td>\n",
       "      <td>Pune</td>\n",
       "      <td>B2</td>\n",
       "      <td>Operation</td>\n",
       "      <td>Male</td>\n",
       "      <td>0.00</td>\n",
       "      <td>&lt; =1</td>\n",
       "      <td>6.08</td>\n",
       "      <td>Single</td>\n",
       "      <td>27.12</td>\n",
       "      <td>Direct</td>\n",
       "      <td>Non Promoted</td>\n",
       "      <td>Yes</td>\n",
       "      <td>Left</td>\n",
       "    </tr>\n",
       "    <tr>\n",
       "      <th>1</th>\n",
       "      <td>2</td>\n",
       "      <td>sid</td>\n",
       "      <td>9876544345</td>\n",
       "      <td>Noida</td>\n",
       "      <td>B7</td>\n",
       "      <td>Support</td>\n",
       "      <td>Male</td>\n",
       "      <td>0.00</td>\n",
       "      <td>&lt; =1</td>\n",
       "      <td>13.00</td>\n",
       "      <td>Marr.</td>\n",
       "      <td>38.08</td>\n",
       "      <td>Direct</td>\n",
       "      <td>Promoted</td>\n",
       "      <td>No</td>\n",
       "      <td>Stay</td>\n",
       "    </tr>\n",
       "    <tr>\n",
       "      <th>2</th>\n",
       "      <td>3</td>\n",
       "      <td>sid</td>\n",
       "      <td>9876544345</td>\n",
       "      <td>Bangalore</td>\n",
       "      <td>B3</td>\n",
       "      <td>Operation</td>\n",
       "      <td>Male</td>\n",
       "      <td>0.01</td>\n",
       "      <td>&lt; =1</td>\n",
       "      <td>16.05</td>\n",
       "      <td>Marr.</td>\n",
       "      <td>36.04</td>\n",
       "      <td>Direct</td>\n",
       "      <td>Promoted</td>\n",
       "      <td>Yes</td>\n",
       "      <td>Stay</td>\n",
       "    </tr>\n",
       "    <tr>\n",
       "      <th>3</th>\n",
       "      <td>4</td>\n",
       "      <td>sid</td>\n",
       "      <td>9876544345</td>\n",
       "      <td>Noida</td>\n",
       "      <td>B2</td>\n",
       "      <td>Operation</td>\n",
       "      <td>Male</td>\n",
       "      <td>0.01</td>\n",
       "      <td>&lt; =1</td>\n",
       "      <td>6.06</td>\n",
       "      <td>Marr.</td>\n",
       "      <td>32.07</td>\n",
       "      <td>Direct</td>\n",
       "      <td>Promoted</td>\n",
       "      <td>Yes</td>\n",
       "      <td>Stay</td>\n",
       "    </tr>\n",
       "    <tr>\n",
       "      <th>4</th>\n",
       "      <td>5</td>\n",
       "      <td>sid</td>\n",
       "      <td>9876544345</td>\n",
       "      <td>Lucknow</td>\n",
       "      <td>B2</td>\n",
       "      <td>Operation</td>\n",
       "      <td>Male</td>\n",
       "      <td>0.00</td>\n",
       "      <td>&lt; =1</td>\n",
       "      <td>7.00</td>\n",
       "      <td>Marr.</td>\n",
       "      <td>32.05</td>\n",
       "      <td>Direct</td>\n",
       "      <td>Non Promoted</td>\n",
       "      <td>Yes</td>\n",
       "      <td>Stay</td>\n",
       "    </tr>\n",
       "  </tbody>\n",
       "</table>\n",
       "</div>"
      ],
      "text/plain": [
       "   table id name  phone number   Location Emp. Group   Function Gender   \\\n",
       "0         1  sid    9876544345       Pune         B2  Operation    Male   \n",
       "1         2  sid    9876544345      Noida         B7    Support    Male   \n",
       "2         3  sid    9876544345  Bangalore         B3  Operation    Male   \n",
       "3         4  sid    9876544345      Noida         B2  Operation    Male   \n",
       "4         5  sid    9876544345    Lucknow         B2  Operation    Male   \n",
       "\n",
       "   Tenure Tenure Grp.  Experience (YY.MM) Marital Status  Age in YY.  \\\n",
       "0    0.00        < =1                6.08         Single       27.12   \n",
       "1    0.00        < =1               13.00          Marr.       38.08   \n",
       "2    0.01        < =1               16.05          Marr.       36.04   \n",
       "3    0.01        < =1                6.06          Marr.       32.07   \n",
       "4    0.00        < =1                7.00          Marr.       32.05   \n",
       "\n",
       "  Hiring Source Promoted/Non Promoted Job Role Match Stay/Left  \n",
       "0        Direct          Non Promoted            Yes      Left  \n",
       "1        Direct              Promoted             No      Stay  \n",
       "2        Direct              Promoted            Yes      Stay  \n",
       "3        Direct              Promoted            Yes      Stay  \n",
       "4        Direct          Non Promoted            Yes      Stay  "
      ]
     },
     "execution_count": 2,
     "metadata": {},
     "output_type": "execute_result"
    }
   ],
   "source": [
    "df=pd.read_csv('E:\\\\DATA SCIENCE\\\\all csv files\\\\pro1.csv')\n",
    "df.head()"
   ]
  },
  {
   "cell_type": "code",
   "execution_count": 3,
   "id": "5949a292",
   "metadata": {},
   "outputs": [
    {
     "data": {
      "text/html": [
       "<div>\n",
       "<style scoped>\n",
       "    .dataframe tbody tr th:only-of-type {\n",
       "        vertical-align: middle;\n",
       "    }\n",
       "\n",
       "    .dataframe tbody tr th {\n",
       "        vertical-align: top;\n",
       "    }\n",
       "\n",
       "    .dataframe thead th {\n",
       "        text-align: right;\n",
       "    }\n",
       "</style>\n",
       "<table border=\"1\" class=\"dataframe\">\n",
       "  <thead>\n",
       "    <tr style=\"text-align: right;\">\n",
       "      <th></th>\n",
       "      <th>Location</th>\n",
       "      <th>Emp. Group</th>\n",
       "      <th>Function</th>\n",
       "      <th>Gender</th>\n",
       "      <th>Tenure</th>\n",
       "      <th>Tenure Grp.</th>\n",
       "      <th>Experience (YY.MM)</th>\n",
       "      <th>Marital Status</th>\n",
       "      <th>Age in YY.</th>\n",
       "      <th>Hiring Source</th>\n",
       "      <th>Promoted/Non Promoted</th>\n",
       "      <th>Job Role Match</th>\n",
       "      <th>Stay/Left</th>\n",
       "    </tr>\n",
       "  </thead>\n",
       "  <tbody>\n",
       "    <tr>\n",
       "      <th>0</th>\n",
       "      <td>Pune</td>\n",
       "      <td>B2</td>\n",
       "      <td>Operation</td>\n",
       "      <td>Male</td>\n",
       "      <td>0.00</td>\n",
       "      <td>&lt; =1</td>\n",
       "      <td>6.08</td>\n",
       "      <td>Single</td>\n",
       "      <td>27.12</td>\n",
       "      <td>Direct</td>\n",
       "      <td>Non Promoted</td>\n",
       "      <td>Yes</td>\n",
       "      <td>Left</td>\n",
       "    </tr>\n",
       "    <tr>\n",
       "      <th>1</th>\n",
       "      <td>Noida</td>\n",
       "      <td>B7</td>\n",
       "      <td>Support</td>\n",
       "      <td>Male</td>\n",
       "      <td>0.00</td>\n",
       "      <td>&lt; =1</td>\n",
       "      <td>13.00</td>\n",
       "      <td>Marr.</td>\n",
       "      <td>38.08</td>\n",
       "      <td>Direct</td>\n",
       "      <td>Promoted</td>\n",
       "      <td>No</td>\n",
       "      <td>Stay</td>\n",
       "    </tr>\n",
       "    <tr>\n",
       "      <th>2</th>\n",
       "      <td>Bangalore</td>\n",
       "      <td>B3</td>\n",
       "      <td>Operation</td>\n",
       "      <td>Male</td>\n",
       "      <td>0.01</td>\n",
       "      <td>&lt; =1</td>\n",
       "      <td>16.05</td>\n",
       "      <td>Marr.</td>\n",
       "      <td>36.04</td>\n",
       "      <td>Direct</td>\n",
       "      <td>Promoted</td>\n",
       "      <td>Yes</td>\n",
       "      <td>Stay</td>\n",
       "    </tr>\n",
       "    <tr>\n",
       "      <th>3</th>\n",
       "      <td>Noida</td>\n",
       "      <td>B2</td>\n",
       "      <td>Operation</td>\n",
       "      <td>Male</td>\n",
       "      <td>0.01</td>\n",
       "      <td>&lt; =1</td>\n",
       "      <td>6.06</td>\n",
       "      <td>Marr.</td>\n",
       "      <td>32.07</td>\n",
       "      <td>Direct</td>\n",
       "      <td>Promoted</td>\n",
       "      <td>Yes</td>\n",
       "      <td>Stay</td>\n",
       "    </tr>\n",
       "    <tr>\n",
       "      <th>4</th>\n",
       "      <td>Lucknow</td>\n",
       "      <td>B2</td>\n",
       "      <td>Operation</td>\n",
       "      <td>Male</td>\n",
       "      <td>0.00</td>\n",
       "      <td>&lt; =1</td>\n",
       "      <td>7.00</td>\n",
       "      <td>Marr.</td>\n",
       "      <td>32.05</td>\n",
       "      <td>Direct</td>\n",
       "      <td>Non Promoted</td>\n",
       "      <td>Yes</td>\n",
       "      <td>Stay</td>\n",
       "    </tr>\n",
       "    <tr>\n",
       "      <th>...</th>\n",
       "      <td>...</td>\n",
       "      <td>...</td>\n",
       "      <td>...</td>\n",
       "      <td>...</td>\n",
       "      <td>...</td>\n",
       "      <td>...</td>\n",
       "      <td>...</td>\n",
       "      <td>...</td>\n",
       "      <td>...</td>\n",
       "      <td>...</td>\n",
       "      <td>...</td>\n",
       "      <td>...</td>\n",
       "      <td>...</td>\n",
       "    </tr>\n",
       "    <tr>\n",
       "      <th>897</th>\n",
       "      <td>Vijayawada</td>\n",
       "      <td>B1</td>\n",
       "      <td>Operation</td>\n",
       "      <td>Female</td>\n",
       "      <td>0.03</td>\n",
       "      <td>&lt; =1</td>\n",
       "      <td>0.03</td>\n",
       "      <td>Single</td>\n",
       "      <td>21.09</td>\n",
       "      <td>Direct</td>\n",
       "      <td>Non Promoted</td>\n",
       "      <td>Yes</td>\n",
       "      <td>Stay</td>\n",
       "    </tr>\n",
       "    <tr>\n",
       "      <th>898</th>\n",
       "      <td>Vijayawada</td>\n",
       "      <td>B1</td>\n",
       "      <td>Operation</td>\n",
       "      <td>Female</td>\n",
       "      <td>0.03</td>\n",
       "      <td>&lt; =1</td>\n",
       "      <td>0.03</td>\n",
       "      <td>Single</td>\n",
       "      <td>22.02</td>\n",
       "      <td>Direct</td>\n",
       "      <td>Non Promoted</td>\n",
       "      <td>Yes</td>\n",
       "      <td>Left</td>\n",
       "    </tr>\n",
       "    <tr>\n",
       "      <th>899</th>\n",
       "      <td>Vijayawada</td>\n",
       "      <td>B1</td>\n",
       "      <td>Operation</td>\n",
       "      <td>Female</td>\n",
       "      <td>0.03</td>\n",
       "      <td>&lt; =1</td>\n",
       "      <td>0.03</td>\n",
       "      <td>Single</td>\n",
       "      <td>22.01</td>\n",
       "      <td>Direct</td>\n",
       "      <td>Non Promoted</td>\n",
       "      <td>NaN</td>\n",
       "      <td>Left</td>\n",
       "    </tr>\n",
       "    <tr>\n",
       "      <th>900</th>\n",
       "      <td>Vijayawada</td>\n",
       "      <td>B1</td>\n",
       "      <td>Operation</td>\n",
       "      <td>Female</td>\n",
       "      <td>0.03</td>\n",
       "      <td>&lt; =1</td>\n",
       "      <td>0.03</td>\n",
       "      <td>Single</td>\n",
       "      <td>22.02</td>\n",
       "      <td>Direct</td>\n",
       "      <td>Non Promoted</td>\n",
       "      <td>Yes</td>\n",
       "      <td>Stay</td>\n",
       "    </tr>\n",
       "    <tr>\n",
       "      <th>901</th>\n",
       "      <td>Madurai</td>\n",
       "      <td>B2</td>\n",
       "      <td>Operation</td>\n",
       "      <td>Male</td>\n",
       "      <td>0.02</td>\n",
       "      <td>&lt; =1</td>\n",
       "      <td>10.02</td>\n",
       "      <td>Marr.</td>\n",
       "      <td>32.08</td>\n",
       "      <td>Direct</td>\n",
       "      <td>Non Promoted</td>\n",
       "      <td>No</td>\n",
       "      <td>Stay</td>\n",
       "    </tr>\n",
       "  </tbody>\n",
       "</table>\n",
       "<p>902 rows × 13 columns</p>\n",
       "</div>"
      ],
      "text/plain": [
       "       Location Emp. Group   Function Gender   Tenure Tenure Grp.  \\\n",
       "0          Pune         B2  Operation    Male    0.00        < =1   \n",
       "1         Noida         B7    Support    Male    0.00        < =1   \n",
       "2     Bangalore         B3  Operation    Male    0.01        < =1   \n",
       "3         Noida         B2  Operation    Male    0.01        < =1   \n",
       "4       Lucknow         B2  Operation    Male    0.00        < =1   \n",
       "..          ...        ...        ...     ...     ...         ...   \n",
       "897  Vijayawada         B1  Operation  Female    0.03        < =1   \n",
       "898  Vijayawada         B1  Operation  Female    0.03        < =1   \n",
       "899  Vijayawada         B1  Operation  Female    0.03        < =1   \n",
       "900  Vijayawada         B1  Operation  Female    0.03        < =1   \n",
       "901     Madurai         B2  Operation    Male    0.02        < =1   \n",
       "\n",
       "     Experience (YY.MM) Marital Status  Age in YY. Hiring Source  \\\n",
       "0                  6.08         Single       27.12        Direct   \n",
       "1                 13.00          Marr.       38.08        Direct   \n",
       "2                 16.05          Marr.       36.04        Direct   \n",
       "3                  6.06          Marr.       32.07        Direct   \n",
       "4                  7.00          Marr.       32.05        Direct   \n",
       "..                  ...            ...         ...           ...   \n",
       "897                0.03         Single       21.09        Direct   \n",
       "898                0.03         Single       22.02        Direct   \n",
       "899                0.03         Single       22.01        Direct   \n",
       "900                0.03         Single       22.02        Direct   \n",
       "901               10.02          Marr.       32.08        Direct   \n",
       "\n",
       "    Promoted/Non Promoted Job Role Match Stay/Left  \n",
       "0            Non Promoted            Yes      Left  \n",
       "1                Promoted             No      Stay  \n",
       "2                Promoted            Yes      Stay  \n",
       "3                Promoted            Yes      Stay  \n",
       "4            Non Promoted            Yes      Stay  \n",
       "..                    ...            ...       ...  \n",
       "897          Non Promoted            Yes      Stay  \n",
       "898          Non Promoted            Yes      Left  \n",
       "899          Non Promoted            NaN      Left  \n",
       "900          Non Promoted            Yes      Stay  \n",
       "901          Non Promoted             No      Stay  \n",
       "\n",
       "[902 rows x 13 columns]"
      ]
     },
     "execution_count": 3,
     "metadata": {},
     "output_type": "execute_result"
    }
   ],
   "source": [
    "dfnew=df.iloc[:,3:]\n",
    "dfnew"
   ]
  },
  {
   "cell_type": "code",
   "execution_count": 4,
   "id": "5a4157d6",
   "metadata": {},
   "outputs": [
    {
     "data": {
      "text/plain": [
       "(902, 13)"
      ]
     },
     "execution_count": 4,
     "metadata": {},
     "output_type": "execute_result"
    }
   ],
   "source": [
    "dfnew.shape"
   ]
  },
  {
   "cell_type": "code",
   "execution_count": 5,
   "id": "150ab200",
   "metadata": {},
   "outputs": [
    {
     "data": {
      "text/plain": [
       "Location                 0\n",
       "Emp. Group               0\n",
       "Function                 0\n",
       "Gender                   0\n",
       "Tenure                   0\n",
       "Tenure Grp.              0\n",
       "Experience (YY.MM)       4\n",
       "Marital Status           0\n",
       "Age in YY.               0\n",
       "Hiring Source            0\n",
       "Promoted/Non Promoted    0\n",
       "Job Role Match           2\n",
       "Stay/Left                0\n",
       "dtype: int64"
      ]
     },
     "execution_count": 5,
     "metadata": {},
     "output_type": "execute_result"
    }
   ],
   "source": [
    "dfnew.isnull().sum()"
   ]
  },
  {
   "cell_type": "code",
   "execution_count": 6,
   "id": "98e82127",
   "metadata": {},
   "outputs": [
    {
     "data": {
      "text/plain": [
       "Location                 0\n",
       "Emp. Group               0\n",
       "Function                 0\n",
       "Gender                   0\n",
       "Tenure                   0\n",
       "Tenure Grp.              0\n",
       "Experience (YY.MM)       0\n",
       "Marital Status           0\n",
       "Age in YY.               0\n",
       "Hiring Source            0\n",
       "Promoted/Non Promoted    0\n",
       "Job Role Match           0\n",
       "Stay/Left                0\n",
       "dtype: int64"
      ]
     },
     "execution_count": 6,
     "metadata": {},
     "output_type": "execute_result"
    }
   ],
   "source": [
    "dfnew.dropna(axis=0,inplace=True)\n",
    "dfnew.isnull().sum()"
   ]
  },
  {
   "cell_type": "code",
   "execution_count": 7,
   "id": "a98273d7",
   "metadata": {},
   "outputs": [
    {
     "data": {
      "text/html": [
       "<div>\n",
       "<style scoped>\n",
       "    .dataframe tbody tr th:only-of-type {\n",
       "        vertical-align: middle;\n",
       "    }\n",
       "\n",
       "    .dataframe tbody tr th {\n",
       "        vertical-align: top;\n",
       "    }\n",
       "\n",
       "    .dataframe thead th {\n",
       "        text-align: right;\n",
       "    }\n",
       "</style>\n",
       "<table border=\"1\" class=\"dataframe\">\n",
       "  <thead>\n",
       "    <tr style=\"text-align: right;\">\n",
       "      <th></th>\n",
       "      <th>Tenure</th>\n",
       "      <th>Experience (YY.MM)</th>\n",
       "      <th>Age in YY.</th>\n",
       "    </tr>\n",
       "  </thead>\n",
       "  <tbody>\n",
       "    <tr>\n",
       "      <th>count</th>\n",
       "      <td>896.000000</td>\n",
       "      <td>896.000000</td>\n",
       "      <td>896.000000</td>\n",
       "    </tr>\n",
       "    <tr>\n",
       "      <th>mean</th>\n",
       "      <td>1.205982</td>\n",
       "      <td>5.161886</td>\n",
       "      <td>29.078795</td>\n",
       "    </tr>\n",
       "    <tr>\n",
       "      <th>std</th>\n",
       "      <td>0.820552</td>\n",
       "      <td>3.478917</td>\n",
       "      <td>4.493532</td>\n",
       "    </tr>\n",
       "    <tr>\n",
       "      <th>min</th>\n",
       "      <td>0.000000</td>\n",
       "      <td>0.030000</td>\n",
       "      <td>21.050000</td>\n",
       "    </tr>\n",
       "    <tr>\n",
       "      <th>25%</th>\n",
       "      <td>0.110000</td>\n",
       "      <td>2.100000</td>\n",
       "      <td>26.050000</td>\n",
       "    </tr>\n",
       "    <tr>\n",
       "      <th>50%</th>\n",
       "      <td>1.060000</td>\n",
       "      <td>4.110000</td>\n",
       "      <td>28.060000</td>\n",
       "    </tr>\n",
       "    <tr>\n",
       "      <th>75%</th>\n",
       "      <td>2.040000</td>\n",
       "      <td>7.030000</td>\n",
       "      <td>31.070000</td>\n",
       "    </tr>\n",
       "    <tr>\n",
       "      <th>max</th>\n",
       "      <td>3.000000</td>\n",
       "      <td>25.080000</td>\n",
       "      <td>52.060000</td>\n",
       "    </tr>\n",
       "  </tbody>\n",
       "</table>\n",
       "</div>"
      ],
      "text/plain": [
       "           Tenure  Experience (YY.MM)  Age in YY.\n",
       "count  896.000000          896.000000  896.000000\n",
       "mean     1.205982            5.161886   29.078795\n",
       "std      0.820552            3.478917    4.493532\n",
       "min      0.000000            0.030000   21.050000\n",
       "25%      0.110000            2.100000   26.050000\n",
       "50%      1.060000            4.110000   28.060000\n",
       "75%      2.040000            7.030000   31.070000\n",
       "max      3.000000           25.080000   52.060000"
      ]
     },
     "execution_count": 7,
     "metadata": {},
     "output_type": "execute_result"
    }
   ],
   "source": [
    "dfnew.describe()"
   ]
  },
  {
   "cell_type": "code",
   "execution_count": 9,
   "id": "3ee2edbb",
   "metadata": {},
   "outputs": [
    {
     "data": {
      "text/plain": [
       "<AxesSubplot:xlabel='Experience (YY.MM)', ylabel='Count'>"
      ]
     },
     "execution_count": 9,
     "metadata": {},
     "output_type": "execute_result"
    },
    {
     "data": {
      "image/png": "[encoded data removed]",
      "text/plain": [
       "<Figure size 432x288 with 1 Axes>"
      ]
     },
     "metadata": {
      "needs_background": "light"
     },
     "output_type": "display_data"
    }
   ],
   "source": [
    "sns.histplot(dfnew['Experience (YY.MM)'],kde=True)"
   ]
  },
  {
   "cell_type": "code",
   "execution_count": 10,
   "id": "a648d587",
   "metadata": {},
   "outputs": [
    {
     "data": {
      "text/plain": [
       "<AxesSubplot:xlabel='Age in YY.', ylabel='Count'>"
      ]
     },
     "execution_count": 10,
     "metadata": {},
     "output_type": "execute_result"
    },
    {
     "data": {
      "image/png": "[encoded data removed]",
      "text/plain": [
       "<Figure size 432x288 with 1 Axes>"
      ]
     },
     "metadata": {
      "needs_background": "light"
     },
     "output_type": "display_data"
    }
   ],
   "source": [
    "sns.histplot(dfnew['Age in YY.'],kde=True)"
   ]
  },
  {
   "cell_type": "code",
   "execution_count": 11,
   "id": "55284060",
   "metadata": {},
   "outputs": [
    {
     "data": {
      "text/plain": [
       "Male      656\n",
       "Female    234\n",
       "other       6\n",
       "Name: Gender , dtype: int64"
      ]
     },
     "execution_count": 11,
     "metadata": {},
     "output_type": "execute_result"
    }
   ],
   "source": [
    "dfnew['Gender '].value_counts()"
   ]
  },
  {
   "cell_type": "code",
   "execution_count": 12,
   "id": "8237bbfe",
   "metadata": {},
   "outputs": [
    {
     "data": {
      "text/plain": [
       "(array([0, 1, 2]),\n",
       " [Text(0, 0, 'Male'), Text(1, 0, 'Female'), Text(2, 0, 'other')])"
      ]
     },
     "execution_count": 12,
     "metadata": {},
     "output_type": "execute_result"
    },
    {
     "data": {
      "image/png": "[encoded data removed]",
      "text/plain": [
       "<Figure size 432x288 with 1 Axes>"
      ]
     },
     "metadata": {
      "needs_background": "light"
     },
     "output_type": "display_data"
    }
   ],
   "source": [
    "dfnew['Gender '].value_counts().plot(kind='bar',color=['grey','pink','green'])\n",
    "plt.xticks(rotation=30)"
   ]
  },
  {
   "cell_type": "code",
   "execution_count": 13,
   "id": "260953bd",
   "metadata": {},
   "outputs": [
    {
     "data": {
      "text/plain": [
       "(array([0, 1, 2]),\n",
       " [Text(0, 0, 'Female'), Text(1, 0, 'Male'), Text(2, 0, 'other')])"
      ]
     },
     "execution_count": 13,
     "metadata": {},
     "output_type": "execute_result"
    },
    {
     "data": {
      "image/png": "[encoded data removed]",
      "text/plain": [
       "<Figure size 432x288 with 1 Axes>"
      ]
     },
     "metadata": {
      "needs_background": "light"
     },
     "output_type": "display_data"
    }
   ],
   "source": [
    "pd.crosstab(dfnew['Gender '],dfnew['Stay/Left']).plot(kind='bar')\n",
    "plt.title('Stay vs Left')\n",
    "plt.xlabel('Stay/Left')\n",
    "plt.ylabel('N0. of people who based on Gender')\n",
    "plt.legend(['left','stay'])\n",
    "plt.xticks(rotation=30)"
   ]
  },
  {
   "cell_type": "code",
   "execution_count": 14,
   "id": "02ffbd20",
   "metadata": {},
   "outputs": [
    {
     "data": {
      "text/plain": [
       "Operation    832\n",
       "Support       52\n",
       "Sales         12\n",
       "Name: Function, dtype: int64"
      ]
     },
     "execution_count": 14,
     "metadata": {},
     "output_type": "execute_result"
    }
   ],
   "source": [
    "dfnew.Function.value_counts()"
   ]
  },
  {
   "cell_type": "code",
   "execution_count": 15,
   "id": "793405a3",
   "metadata": {},
   "outputs": [
    {
     "data": {
      "text/plain": [
       "<AxesSubplot:>"
      ]
     },
     "execution_count": 15,
     "metadata": {},
     "output_type": "execute_result"
    },
    {
     "data": {
      "image/png": "[encoded data removed]",
      "text/plain": [
       "<Figure size 432x288 with 1 Axes>"
      ]
     },
     "metadata": {
      "needs_background": "light"
     },
     "output_type": "display_data"
    }
   ],
   "source": [
    "dfnew.Function.value_counts().plot(kind='bar',color=['black','red','green'])"
   ]
  },
  {
   "cell_type": "code",
   "execution_count": 16,
   "id": "16581e22",
   "metadata": {},
   "outputs": [
    {
     "data": {
      "text/plain": [
       "(array([0, 1, 2]),\n",
       " [Text(0, 0, 'Operation'), Text(1, 0, 'Sales'), Text(2, 0, 'Support')])"
      ]
     },
     "execution_count": 16,
     "metadata": {},
     "output_type": "execute_result"
    },
    {
     "data": {
      "image/png": "[encoded data removed]",
      "text/plain": [
       "<Figure size 432x288 with 1 Axes>"
      ]
     },
     "metadata": {
      "needs_background": "light"
     },
     "output_type": "display_data"
    }
   ],
   "source": [
    "pd.crosstab(dfnew['Function'],dfnew['Stay/Left']).plot(kind='bar')\n",
    "plt.title('stay vs left')\n",
    "plt.xlabel('Function vs stay/left')\n",
    "plt.ylabel('No. of people stay/left who based on function of organization')\n",
    "plt.legend(['Left','stay'])\n",
    "plt.xticks(rotation=30)"
   ]
  },
  {
   "cell_type": "code",
   "execution_count": 17,
   "id": "4573253d",
   "metadata": {},
   "outputs": [
    {
     "data": {
      "text/plain": [
       "Single    534\n",
       "Marr.     356\n",
       "Sep.        2\n",
       "NTBD        2\n",
       "Div.        2\n",
       "Name: Marital Status, dtype: int64"
      ]
     },
     "execution_count": 17,
     "metadata": {},
     "output_type": "execute_result"
    }
   ],
   "source": [
    "dfnew['Marital Status'].value_counts()"
   ]
  },
  {
   "cell_type": "code",
   "execution_count": 18,
   "id": "e12710cc",
   "metadata": {},
   "outputs": [
    {
     "data": {
      "text/plain": [
       "<AxesSubplot:>"
      ]
     },
     "execution_count": 18,
     "metadata": {},
     "output_type": "execute_result"
    },
    {
     "data": {
      "image/png": "[encoded data removed]",
      "text/plain": [
       "<Figure size 432x288 with 1 Axes>"
      ]
     },
     "metadata": {
      "needs_background": "light"
     },
     "output_type": "display_data"
    }
   ],
   "source": [
    "dfnew['Marital Status'].value_counts().plot(kind='bar')"
   ]
  },
  {
   "cell_type": "code",
   "execution_count": 19,
   "id": "ea923de1",
   "metadata": {},
   "outputs": [
    {
     "data": {
      "text/plain": [
       "(array([0, 1, 2, 3, 4]),\n",
       " [Text(0, 0, 'Div.'),\n",
       "  Text(1, 0, 'Marr.'),\n",
       "  Text(2, 0, 'NTBD'),\n",
       "  Text(3, 0, 'Sep.'),\n",
       "  Text(4, 0, 'Single')])"
      ]
     },
     "execution_count": 19,
     "metadata": {},
     "output_type": "execute_result"
    },
    {
     "data": {
      "image/png": "[encoded data removed]",
      "text/plain": [
       "<Figure size 432x288 with 1 Axes>"
      ]
     },
     "metadata": {
      "needs_background": "light"
     },
     "output_type": "display_data"
    }
   ],
   "source": [
    "pd.crosstab(dfnew['Marital Status'],dfnew['Stay/Left']).plot(kind='bar')\n",
    "plt.title('Marital Status vs Stay/Left')\n",
    "plt.xlabel('Stay/Left')\n",
    "plt.ylabel('No. of people stay/left who based on Marital Status')\n",
    "plt.legend(['Left','stay'])\n",
    "plt.xticks(rotation=30)"
   ]
  },
  {
   "cell_type": "code",
   "execution_count": 20,
   "id": "7c663467",
   "metadata": {},
   "outputs": [
    {
     "data": {
      "text/plain": [
       "Direct               709\n",
       "Agency               116\n",
       "Employee Referral     71\n",
       "Name: Hiring Source, dtype: int64"
      ]
     },
     "execution_count": 20,
     "metadata": {},
     "output_type": "execute_result"
    }
   ],
   "source": [
    "dfnew['Hiring Source'].value_counts()"
   ]
  },
  {
   "cell_type": "code",
   "execution_count": 21,
   "id": "f57dabc5",
   "metadata": {},
   "outputs": [
    {
     "data": {
      "text/plain": [
       "<AxesSubplot:>"
      ]
     },
     "execution_count": 21,
     "metadata": {},
     "output_type": "execute_result"
    },
    {
     "data": {
      "image/png": "[encoded data removed]",
      "text/plain": [
       "<Figure size 432x288 with 1 Axes>"
      ]
     },
     "metadata": {
      "needs_background": "light"
     },
     "output_type": "display_data"
    }
   ],
   "source": [
    "dfnew['Hiring Source'].value_counts().plot(kind='bar',color=['black','red','green'])"
   ]
  },
  {
   "cell_type": "code",
   "execution_count": 22,
   "id": "da072360",
   "metadata": {},
   "outputs": [
    {
     "data": {
      "text/plain": [
       "(array([0, 1, 2]),\n",
       " [Text(0, 0, 'Agency'), Text(1, 0, 'Direct'), Text(2, 0, 'Employee Referral')])"
      ]
     },
     "execution_count": 22,
     "metadata": {},
     "output_type": "execute_result"
    },
    {
     "data": {
      "image/png": "[encoded data removed]",
      "text/plain": [
       "<Figure size 432x288 with 1 Axes>"
      ]
     },
     "metadata": {
      "needs_background": "light"
     },
     "output_type": "display_data"
    }
   ],
   "source": [
    "pd.crosstab(dfnew['Hiring Source'],dfnew['Stay/Left']).plot(kind='bar')\n",
    "plt.title('hiring source vs Stay/Left')\n",
    "plt.xlabel('Stay/Left')\n",
    "plt.ylabel('No. of people stay/left who based on hiring source')\n",
    "plt.legend(['Left','stay'])\n",
    "plt.xticks(rotation=30)"
   ]
  },
  {
   "cell_type": "code",
   "execution_count": 23,
   "id": "79a43ae0",
   "metadata": {},
   "outputs": [
    {
     "data": {
      "text/plain": [
       "Promoted        457\n",
       "Non Promoted    439\n",
       "Name: Promoted/Non Promoted, dtype: int64"
      ]
     },
     "execution_count": 23,
     "metadata": {},
     "output_type": "execute_result"
    }
   ],
   "source": [
    "dfnew['Promoted/Non Promoted'].value_counts()"
   ]
  },
  {
   "cell_type": "code",
   "execution_count": 24,
   "id": "1c90a6b2",
   "metadata": {},
   "outputs": [
    {
     "data": {
      "text/plain": [
       "<AxesSubplot:>"
      ]
     },
     "execution_count": 24,
     "metadata": {},
     "output_type": "execute_result"
    },
    {
     "data": {
      "image/png": "[encoded data removed]",
      "text/plain": [
       "<Figure size 432x288 with 1 Axes>"
      ]
     },
     "metadata": {
      "needs_background": "light"
     },
     "output_type": "display_data"
    }
   ],
   "source": [
    "dfnew['Promoted/Non Promoted'].value_counts().plot(kind='bar',color=['red','green'])"
   ]
  },
  {
   "cell_type": "code",
   "execution_count": 25,
   "id": "a3973834",
   "metadata": {},
   "outputs": [
    {
     "data": {
      "text/plain": [
       "(array([0, 1]), [Text(0, 0, 'Non Promoted'), Text(1, 0, 'Promoted')])"
      ]
     },
     "execution_count": 25,
     "metadata": {},
     "output_type": "execute_result"
    },
    {
     "data": {
      "image/png": "[encoded data removed]",
      "text/plain": [
       "<Figure size 432x288 with 1 Axes>"
      ]
     },
     "metadata": {
      "needs_background": "light"
     },
     "output_type": "display_data"
    }
   ],
   "source": [
    "pd.crosstab(dfnew['Promoted/Non Promoted'],dfnew['Stay/Left']).plot(kind='bar')\n",
    "plt.title('Promoted/Non Promoted vs Stay/Left')\n",
    "plt.xlabel('Stay/Left')\n",
    "plt.ylabel('No. of people stay/left who based on promoted or non-promoted')\n",
    "plt.legend(['Left','stay'])\n",
    "plt.xticks(rotation=30)"
   ]
  },
  {
   "cell_type": "code",
   "execution_count": 26,
   "id": "218d5230",
   "metadata": {},
   "outputs": [
    {
     "data": {
      "text/plain": [
       "Yes    481\n",
       "No     415\n",
       "Name: Job Role Match, dtype: int64"
      ]
     },
     "execution_count": 26,
     "metadata": {},
     "output_type": "execute_result"
    }
   ],
   "source": [
    "dfnew['Job Role Match'].value_counts()"
   ]
  },
  {
   "cell_type": "code",
   "execution_count": 27,
   "id": "be660121",
   "metadata": {},
   "outputs": [
    {
     "data": {
      "text/plain": [
       "<AxesSubplot:>"
      ]
     },
     "execution_count": 27,
     "metadata": {},
     "output_type": "execute_result"
    },
    {
     "data": {
      "image/png": "[encoded data removed]",
      "text/plain": [
       "<Figure size 432x288 with 1 Axes>"
      ]
     },
     "metadata": {
      "needs_background": "light"
     },
     "output_type": "display_data"
    }
   ],
   "source": [
    "dfnew['Job Role Match'].value_counts().plot(kind='bar',color=['red','green'])"
   ]
  },
  {
   "cell_type": "code",
   "execution_count": 28,
   "id": "93ec5ec5",
   "metadata": {},
   "outputs": [
    {
     "data": {
      "text/plain": [
       "(array([0, 1]), [Text(0, 0, 'No'), Text(1, 0, 'Yes')])"
      ]
     },
     "execution_count": 28,
     "metadata": {},
     "output_type": "execute_result"
    },
    {
     "data": {
      "image/png": "[encoded data removed]",
      "text/plain": [
       "<Figure size 432x288 with 1 Axes>"
      ]
     },
     "metadata": {
      "needs_background": "light"
     },
     "output_type": "display_data"
    }
   ],
   "source": [
    "pd.crosstab(dfnew['Job Role Match'],dfnew['Stay/Left']).plot(kind='bar')\n",
    "plt.title('Job role match vs stay/left')\n",
    "plt.xlabel('stay/left')\n",
    "plt.ylabel('No. of people stay/left who based on job role match')\n",
    "plt.legend(['left','stay'])\n",
    "plt.xticks(rotation=0)"
   ]
  },
  {
   "cell_type": "code",
   "execution_count": 29,
   "id": "90d7f28f",
   "metadata": {},
   "outputs": [
    {
     "data": {
      "text/plain": [
       "> 1 & < =3    626\n",
       "< =1          270\n",
       "Name: Tenure Grp., dtype: int64"
      ]
     },
     "execution_count": 29,
     "metadata": {},
     "output_type": "execute_result"
    }
   ],
   "source": [
    "dfnew['Tenure Grp.'].value_counts()"
   ]
  },
  {
   "cell_type": "code",
   "execution_count": 30,
   "id": "63b41165",
   "metadata": {},
   "outputs": [
    {
     "data": {
      "text/plain": [
       "(array([0, 1]), [Text(0, 0, '< =1'), Text(1, 0, '> 1 & < =3')])"
      ]
     },
     "execution_count": 30,
     "metadata": {},
     "output_type": "execute_result"
    },
    {
     "data": {
      "image/png": "[encoded data removed]",
      "text/plain": [
       "<Figure size 432x288 with 1 Axes>"
      ]
     },
     "metadata": {
      "needs_background": "light"
     },
     "output_type": "display_data"
    }
   ],
   "source": [
    "pd.crosstab(dfnew['Tenure Grp.'],dfnew['Stay/Left']).plot(kind='bar')\n",
    "plt.title('tenure grp vs stay/left')\n",
    "plt.xlabel('stay/label')\n",
    "plt.ylabel('No. of people stay/left who based on tenure group')\n",
    "plt.xticks(rotation=30)"
   ]
  },
  {
   "cell_type": "code",
   "execution_count": 31,
   "id": "3af6dd37",
   "metadata": {},
   "outputs": [
    {
     "data": {
      "text/plain": [
       "Chennai       255\n",
       "Noida         236\n",
       "Bangalore     210\n",
       "Hyderabad      62\n",
       "Pune           56\n",
       "Madurai        29\n",
       "Lucknow        20\n",
       "Nagpur         14\n",
       "Vijayawada      6\n",
       "Mumbai          4\n",
       "Gurgaon         3\n",
       "Kolkata         1\n",
       "Name: Location, dtype: int64"
      ]
     },
     "execution_count": 31,
     "metadata": {},
     "output_type": "execute_result"
    }
   ],
   "source": [
    "dfnew['Location'].value_counts()"
   ]
  },
  {
   "cell_type": "code",
   "execution_count": 32,
   "id": "d13f6f73",
   "metadata": {},
   "outputs": [
    {
     "data": {
      "image/png": "[encoded data removed]",
      "text/plain": [
       "<Figure size 432x288 with 1 Axes>"
      ]
     },
     "metadata": {
      "needs_background": "light"
     },
     "output_type": "display_data"
    }
   ],
   "source": [
    "pd.crosstab(dfnew['Location'],dfnew['Stay/Left']).plot(kind='bar')\n",
    "plt.title('location vs stay/left')\n",
    "plt.xlabel('stay/left')\n",
    "plt.ylabel('No of people who stay/left based on Location')\n",
    "plt.xticks(rotation=90)\n",
    "plt.show()"
   ]
  },
  {
   "cell_type": "markdown",
   "id": "46a66440",
   "metadata": {},
   "source": [
    "# lets visualize some continous data...."
   ]
  },
  {
   "cell_type": "code",
   "execution_count": 33,
   "id": "04428d92",
   "metadata": {},
   "outputs": [
    {
     "data": {
      "text/plain": [
       "<seaborn.axisgrid.JointGrid at 0xd6da190>"
      ]
     },
     "execution_count": 33,
     "metadata": {},
     "output_type": "execute_result"
    },
    {
     "data": {
      "image/png": "[encoded data removed]",
      "text/plain": [
       "<Figure size 432x432 with 3 Axes>"
      ]
     },
     "metadata": {
      "needs_background": "light"
     },
     "output_type": "display_data"
    }
   ],
   "source": [
    "sns.jointplot(x='Stay/Left',y='Experience (YY.MM)',data=dfnew)"
   ]
  },
  {
   "cell_type": "code",
   "execution_count": 34,
   "id": "9c78da05",
   "metadata": {},
   "outputs": [
    {
     "data": {
      "text/plain": [
       "<seaborn.axisgrid.JointGrid at 0x5ab8880>"
      ]
     },
     "execution_count": 34,
     "metadata": {},
     "output_type": "execute_result"
    },
    {
     "data": {
      "image/png": "[encoded data removed]",
      "text/plain": [
       "<Figure size 432x432 with 3 Axes>"
      ]
     },
     "metadata": {
      "needs_background": "light"
     },
     "output_type": "display_data"
    }
   ],
   "source": [
    "sns.jointplot(x='Stay/Left',y='Age in YY.',data=dfnew)"
   ]
  },
  {
   "cell_type": "markdown",
   "id": "9a6862dc",
   "metadata": {},
   "source": [
    "# lets make our correlation visuals."
   ]
  },
  {
   "cell_type": "code",
   "execution_count": 35,
   "id": "e1b45cc1",
   "metadata": {},
   "outputs": [
    {
     "data": {
      "text/html": [
       "<div>\n",
       "<style scoped>\n",
       "    .dataframe tbody tr th:only-of-type {\n",
       "        vertical-align: middle;\n",
       "    }\n",
       "\n",
       "    .dataframe tbody tr th {\n",
       "        vertical-align: top;\n",
       "    }\n",
       "\n",
       "    .dataframe thead th {\n",
       "        text-align: right;\n",
       "    }\n",
       "</style>\n",
       "<table border=\"1\" class=\"dataframe\">\n",
       "  <thead>\n",
       "    <tr style=\"text-align: right;\">\n",
       "      <th></th>\n",
       "      <th>Tenure</th>\n",
       "      <th>Experience (YY.MM)</th>\n",
       "      <th>Age in YY.</th>\n",
       "    </tr>\n",
       "  </thead>\n",
       "  <tbody>\n",
       "    <tr>\n",
       "      <th>Tenure</th>\n",
       "      <td>1.000000</td>\n",
       "      <td>-0.050179</td>\n",
       "      <td>-0.079193</td>\n",
       "    </tr>\n",
       "    <tr>\n",
       "      <th>Experience (YY.MM)</th>\n",
       "      <td>-0.050179</td>\n",
       "      <td>1.000000</td>\n",
       "      <td>0.834944</td>\n",
       "    </tr>\n",
       "    <tr>\n",
       "      <th>Age in YY.</th>\n",
       "      <td>-0.079193</td>\n",
       "      <td>0.834944</td>\n",
       "      <td>1.000000</td>\n",
       "    </tr>\n",
       "  </tbody>\n",
       "</table>\n",
       "</div>"
      ],
      "text/plain": [
       "                      Tenure  Experience (YY.MM)  Age in YY.\n",
       "Tenure              1.000000           -0.050179   -0.079193\n",
       "Experience (YY.MM) -0.050179            1.000000    0.834944\n",
       "Age in YY.         -0.079193            0.834944    1.000000"
      ]
     },
     "execution_count": 35,
     "metadata": {},
     "output_type": "execute_result"
    }
   ],
   "source": [
    "dfnew.corr()"
   ]
  },
  {
   "cell_type": "code",
   "execution_count": 36,
   "id": "096e2e16",
   "metadata": {},
   "outputs": [
    {
     "data": {
      "text/plain": [
       "<AxesSubplot:>"
      ]
     },
     "execution_count": 36,
     "metadata": {},
     "output_type": "execute_result"
    },
    {
     "data": {
      "image/png": "[encoded data removed]",
      "text/plain": [
       "<Figure size 432x288 with 2 Axes>"
      ]
     },
     "metadata": {
      "needs_background": "light"
     },
     "output_type": "display_data"
    }
   ],
   "source": [
    "sns.heatmap(dfnew.corr(),annot=True)"
   ]
  },
  {
   "cell_type": "markdown",
   "id": "ff2faf72",
   "metadata": {},
   "source": [
    "# Lets use Label Encoding....."
   ]
  },
  {
   "cell_type": "code",
   "execution_count": 37,
   "id": "66611cd4",
   "metadata": {},
   "outputs": [],
   "source": [
    "from sklearn.preprocessing import LabelEncoder\n",
    "le=LabelEncoder()"
   ]
  },
  {
   "cell_type": "code",
   "execution_count": 38,
   "id": "b8a2f8db",
   "metadata": {},
   "outputs": [
    {
     "data": {
      "text/plain": [
       "Index(['Location', 'Emp. Group', 'Function', 'Gender ', 'Tenure',\n",
       "       'Tenure Grp.', 'Experience (YY.MM)', 'Marital Status', 'Age in YY.',\n",
       "       'Hiring Source', 'Promoted/Non Promoted', 'Job Role Match',\n",
       "       'Stay/Left'],\n",
       "      dtype='object')"
      ]
     },
     "execution_count": 38,
     "metadata": {},
     "output_type": "execute_result"
    }
   ],
   "source": [
    "dfnew.columns"
   ]
  },
  {
   "cell_type": "code",
   "execution_count": 39,
   "id": "f8aac1ae",
   "metadata": {},
   "outputs": [
    {
     "data": {
      "text/html": [
       "<div>\n",
       "<style scoped>\n",
       "    .dataframe tbody tr th:only-of-type {\n",
       "        vertical-align: middle;\n",
       "    }\n",
       "\n",
       "    .dataframe tbody tr th {\n",
       "        vertical-align: top;\n",
       "    }\n",
       "\n",
       "    .dataframe thead th {\n",
       "        text-align: right;\n",
       "    }\n",
       "</style>\n",
       "<table border=\"1\" class=\"dataframe\">\n",
       "  <thead>\n",
       "    <tr style=\"text-align: right;\">\n",
       "      <th></th>\n",
       "      <th>Location</th>\n",
       "      <th>Emp. Group</th>\n",
       "      <th>Function</th>\n",
       "      <th>Gender</th>\n",
       "      <th>Tenure</th>\n",
       "      <th>Tenure Grp.</th>\n",
       "      <th>Experience (YY.MM)</th>\n",
       "      <th>Marital Status</th>\n",
       "      <th>Age in YY.</th>\n",
       "      <th>Hiring Source</th>\n",
       "      <th>Promoted/Non Promoted</th>\n",
       "      <th>Job Role Match</th>\n",
       "      <th>Stay/Left</th>\n",
       "    </tr>\n",
       "  </thead>\n",
       "  <tbody>\n",
       "    <tr>\n",
       "      <th>0</th>\n",
       "      <td>Pune</td>\n",
       "      <td>B2</td>\n",
       "      <td>Operation</td>\n",
       "      <td>Male</td>\n",
       "      <td>0.00</td>\n",
       "      <td>0</td>\n",
       "      <td>6.08</td>\n",
       "      <td>Single</td>\n",
       "      <td>27.12</td>\n",
       "      <td>Direct</td>\n",
       "      <td>0</td>\n",
       "      <td>1</td>\n",
       "      <td>0</td>\n",
       "    </tr>\n",
       "    <tr>\n",
       "      <th>1</th>\n",
       "      <td>Noida</td>\n",
       "      <td>B7</td>\n",
       "      <td>Support</td>\n",
       "      <td>Male</td>\n",
       "      <td>0.00</td>\n",
       "      <td>0</td>\n",
       "      <td>13.00</td>\n",
       "      <td>Marr.</td>\n",
       "      <td>38.08</td>\n",
       "      <td>Direct</td>\n",
       "      <td>1</td>\n",
       "      <td>0</td>\n",
       "      <td>1</td>\n",
       "    </tr>\n",
       "    <tr>\n",
       "      <th>2</th>\n",
       "      <td>Bangalore</td>\n",
       "      <td>B3</td>\n",
       "      <td>Operation</td>\n",
       "      <td>Male</td>\n",
       "      <td>0.01</td>\n",
       "      <td>0</td>\n",
       "      <td>16.05</td>\n",
       "      <td>Marr.</td>\n",
       "      <td>36.04</td>\n",
       "      <td>Direct</td>\n",
       "      <td>1</td>\n",
       "      <td>1</td>\n",
       "      <td>1</td>\n",
       "    </tr>\n",
       "    <tr>\n",
       "      <th>3</th>\n",
       "      <td>Noida</td>\n",
       "      <td>B2</td>\n",
       "      <td>Operation</td>\n",
       "      <td>Male</td>\n",
       "      <td>0.01</td>\n",
       "      <td>0</td>\n",
       "      <td>6.06</td>\n",
       "      <td>Marr.</td>\n",
       "      <td>32.07</td>\n",
       "      <td>Direct</td>\n",
       "      <td>1</td>\n",
       "      <td>1</td>\n",
       "      <td>1</td>\n",
       "    </tr>\n",
       "    <tr>\n",
       "      <th>4</th>\n",
       "      <td>Lucknow</td>\n",
       "      <td>B2</td>\n",
       "      <td>Operation</td>\n",
       "      <td>Male</td>\n",
       "      <td>0.00</td>\n",
       "      <td>0</td>\n",
       "      <td>7.00</td>\n",
       "      <td>Marr.</td>\n",
       "      <td>32.05</td>\n",
       "      <td>Direct</td>\n",
       "      <td>0</td>\n",
       "      <td>1</td>\n",
       "      <td>1</td>\n",
       "    </tr>\n",
       "    <tr>\n",
       "      <th>...</th>\n",
       "      <td>...</td>\n",
       "      <td>...</td>\n",
       "      <td>...</td>\n",
       "      <td>...</td>\n",
       "      <td>...</td>\n",
       "      <td>...</td>\n",
       "      <td>...</td>\n",
       "      <td>...</td>\n",
       "      <td>...</td>\n",
       "      <td>...</td>\n",
       "      <td>...</td>\n",
       "      <td>...</td>\n",
       "      <td>...</td>\n",
       "    </tr>\n",
       "    <tr>\n",
       "      <th>896</th>\n",
       "      <td>Vijayawada</td>\n",
       "      <td>B1</td>\n",
       "      <td>Operation</td>\n",
       "      <td>Male</td>\n",
       "      <td>0.03</td>\n",
       "      <td>0</td>\n",
       "      <td>0.03</td>\n",
       "      <td>Single</td>\n",
       "      <td>24.06</td>\n",
       "      <td>Direct</td>\n",
       "      <td>0</td>\n",
       "      <td>1</td>\n",
       "      <td>1</td>\n",
       "    </tr>\n",
       "    <tr>\n",
       "      <th>897</th>\n",
       "      <td>Vijayawada</td>\n",
       "      <td>B1</td>\n",
       "      <td>Operation</td>\n",
       "      <td>Female</td>\n",
       "      <td>0.03</td>\n",
       "      <td>0</td>\n",
       "      <td>0.03</td>\n",
       "      <td>Single</td>\n",
       "      <td>21.09</td>\n",
       "      <td>Direct</td>\n",
       "      <td>0</td>\n",
       "      <td>1</td>\n",
       "      <td>1</td>\n",
       "    </tr>\n",
       "    <tr>\n",
       "      <th>898</th>\n",
       "      <td>Vijayawada</td>\n",
       "      <td>B1</td>\n",
       "      <td>Operation</td>\n",
       "      <td>Female</td>\n",
       "      <td>0.03</td>\n",
       "      <td>0</td>\n",
       "      <td>0.03</td>\n",
       "      <td>Single</td>\n",
       "      <td>22.02</td>\n",
       "      <td>Direct</td>\n",
       "      <td>0</td>\n",
       "      <td>1</td>\n",
       "      <td>0</td>\n",
       "    </tr>\n",
       "    <tr>\n",
       "      <th>900</th>\n",
       "      <td>Vijayawada</td>\n",
       "      <td>B1</td>\n",
       "      <td>Operation</td>\n",
       "      <td>Female</td>\n",
       "      <td>0.03</td>\n",
       "      <td>0</td>\n",
       "      <td>0.03</td>\n",
       "      <td>Single</td>\n",
       "      <td>22.02</td>\n",
       "      <td>Direct</td>\n",
       "      <td>0</td>\n",
       "      <td>1</td>\n",
       "      <td>1</td>\n",
       "    </tr>\n",
       "    <tr>\n",
       "      <th>901</th>\n",
       "      <td>Madurai</td>\n",
       "      <td>B2</td>\n",
       "      <td>Operation</td>\n",
       "      <td>Male</td>\n",
       "      <td>0.02</td>\n",
       "      <td>0</td>\n",
       "      <td>10.02</td>\n",
       "      <td>Marr.</td>\n",
       "      <td>32.08</td>\n",
       "      <td>Direct</td>\n",
       "      <td>0</td>\n",
       "      <td>0</td>\n",
       "      <td>1</td>\n",
       "    </tr>\n",
       "  </tbody>\n",
       "</table>\n",
       "<p>896 rows × 13 columns</p>\n",
       "</div>"
      ],
      "text/plain": [
       "       Location Emp. Group   Function Gender   Tenure  Tenure Grp.  \\\n",
       "0          Pune         B2  Operation    Male    0.00            0   \n",
       "1         Noida         B7    Support    Male    0.00            0   \n",
       "2     Bangalore         B3  Operation    Male    0.01            0   \n",
       "3         Noida         B2  Operation    Male    0.01            0   \n",
       "4       Lucknow         B2  Operation    Male    0.00            0   \n",
       "..          ...        ...        ...     ...     ...          ...   \n",
       "896  Vijayawada         B1  Operation    Male    0.03            0   \n",
       "897  Vijayawada         B1  Operation  Female    0.03            0   \n",
       "898  Vijayawada         B1  Operation  Female    0.03            0   \n",
       "900  Vijayawada         B1  Operation  Female    0.03            0   \n",
       "901     Madurai         B2  Operation    Male    0.02            0   \n",
       "\n",
       "     Experience (YY.MM) Marital Status  Age in YY. Hiring Source  \\\n",
       "0                  6.08         Single       27.12        Direct   \n",
       "1                 13.00          Marr.       38.08        Direct   \n",
       "2                 16.05          Marr.       36.04        Direct   \n",
       "3                  6.06          Marr.       32.07        Direct   \n",
       "4                  7.00          Marr.       32.05        Direct   \n",
       "..                  ...            ...         ...           ...   \n",
       "896                0.03         Single       24.06        Direct   \n",
       "897                0.03         Single       21.09        Direct   \n",
       "898                0.03         Single       22.02        Direct   \n",
       "900                0.03         Single       22.02        Direct   \n",
       "901               10.02          Marr.       32.08        Direct   \n",
       "\n",
       "     Promoted/Non Promoted  Job Role Match  Stay/Left  \n",
       "0                        0               1          0  \n",
       "1                        1               0          1  \n",
       "2                        1               1          1  \n",
       "3                        1               1          1  \n",
       "4                        0               1          1  \n",
       "..                     ...             ...        ...  \n",
       "896                      0               1          1  \n",
       "897                      0               1          1  \n",
       "898                      0               1          0  \n",
       "900                      0               1          1  \n",
       "901                      0               0          1  \n",
       "\n",
       "[896 rows x 13 columns]"
      ]
     },
     "execution_count": 39,
     "metadata": {},
     "output_type": "execute_result"
    }
   ],
   "source": [
    "dfnew['Tenure Grp.']=le.fit_transform(dfnew['Tenure Grp.'])\n",
    "dfnew['Promoted/Non Promoted']=le.fit_transform(dfnew['Promoted/Non Promoted'])\n",
    "dfnew['Job Role Match']=le.fit_transform(dfnew['Job Role Match'])\n",
    "dfnew['Stay/Left']=le.fit_transform(dfnew['Stay/Left'])\n",
    "dfnew"
   ]
  },
  {
   "cell_type": "code",
   "execution_count": 40,
   "id": "9e1e5d9f",
   "metadata": {},
   "outputs": [
    {
     "data": {
      "text/plain": [
       "{'Chennai': 8,\n",
       " 'Noida': 7,\n",
       " 'Bangalore': 6,\n",
       " 'Hyderabad': 5,\n",
       " 'Pune': 4,\n",
       " 'Mumbai': 3,\n",
       " 'Gurgaon': 2,\n",
       " 'Madurai': 1,\n",
       " 'other_city': 0}"
      ]
     },
     "execution_count": 40,
     "metadata": {},
     "output_type": "execute_result"
    }
   ],
   "source": [
    "loc_dict_new={'Chennai':8,'Noida':7,'Bangalore':6,'Hyderabad':5,'Pune':4,'Mumbai':3,'Gurgaon':2,'Madurai':1,'other_city':0}\n",
    "loc_dict_new"
   ]
  },
  {
   "cell_type": "code",
   "execution_count": 41,
   "id": "757b83c1",
   "metadata": {},
   "outputs": [
    {
     "data": {
      "text/html": [
       "<div>\n",
       "<style scoped>\n",
       "    .dataframe tbody tr th:only-of-type {\n",
       "        vertical-align: middle;\n",
       "    }\n",
       "\n",
       "    .dataframe tbody tr th {\n",
       "        vertical-align: top;\n",
       "    }\n",
       "\n",
       "    .dataframe thead th {\n",
       "        text-align: right;\n",
       "    }\n",
       "</style>\n",
       "<table border=\"1\" class=\"dataframe\">\n",
       "  <thead>\n",
       "    <tr style=\"text-align: right;\">\n",
       "      <th></th>\n",
       "      <th>Location</th>\n",
       "      <th>Emp. Group</th>\n",
       "      <th>Function</th>\n",
       "      <th>Gender</th>\n",
       "      <th>Tenure</th>\n",
       "      <th>Tenure Grp.</th>\n",
       "      <th>Experience (YY.MM)</th>\n",
       "      <th>Marital Status</th>\n",
       "      <th>Age in YY.</th>\n",
       "      <th>Hiring Source</th>\n",
       "      <th>Promoted/Non Promoted</th>\n",
       "      <th>Job Role Match</th>\n",
       "      <th>Stay/Left</th>\n",
       "      <th>New location</th>\n",
       "    </tr>\n",
       "  </thead>\n",
       "  <tbody>\n",
       "    <tr>\n",
       "      <th>0</th>\n",
       "      <td>Pune</td>\n",
       "      <td>B2</td>\n",
       "      <td>Operation</td>\n",
       "      <td>Male</td>\n",
       "      <td>0.00</td>\n",
       "      <td>0</td>\n",
       "      <td>6.08</td>\n",
       "      <td>Single</td>\n",
       "      <td>27.12</td>\n",
       "      <td>Direct</td>\n",
       "      <td>0</td>\n",
       "      <td>1</td>\n",
       "      <td>0</td>\n",
       "      <td>4</td>\n",
       "    </tr>\n",
       "    <tr>\n",
       "      <th>1</th>\n",
       "      <td>Noida</td>\n",
       "      <td>B7</td>\n",
       "      <td>Support</td>\n",
       "      <td>Male</td>\n",
       "      <td>0.00</td>\n",
       "      <td>0</td>\n",
       "      <td>13.00</td>\n",
       "      <td>Marr.</td>\n",
       "      <td>38.08</td>\n",
       "      <td>Direct</td>\n",
       "      <td>1</td>\n",
       "      <td>0</td>\n",
       "      <td>1</td>\n",
       "      <td>7</td>\n",
       "    </tr>\n",
       "    <tr>\n",
       "      <th>2</th>\n",
       "      <td>Bangalore</td>\n",
       "      <td>B3</td>\n",
       "      <td>Operation</td>\n",
       "      <td>Male</td>\n",
       "      <td>0.01</td>\n",
       "      <td>0</td>\n",
       "      <td>16.05</td>\n",
       "      <td>Marr.</td>\n",
       "      <td>36.04</td>\n",
       "      <td>Direct</td>\n",
       "      <td>1</td>\n",
       "      <td>1</td>\n",
       "      <td>1</td>\n",
       "      <td>6</td>\n",
       "    </tr>\n",
       "    <tr>\n",
       "      <th>3</th>\n",
       "      <td>Noida</td>\n",
       "      <td>B2</td>\n",
       "      <td>Operation</td>\n",
       "      <td>Male</td>\n",
       "      <td>0.01</td>\n",
       "      <td>0</td>\n",
       "      <td>6.06</td>\n",
       "      <td>Marr.</td>\n",
       "      <td>32.07</td>\n",
       "      <td>Direct</td>\n",
       "      <td>1</td>\n",
       "      <td>1</td>\n",
       "      <td>1</td>\n",
       "      <td>7</td>\n",
       "    </tr>\n",
       "    <tr>\n",
       "      <th>4</th>\n",
       "      <td>Lucknow</td>\n",
       "      <td>B2</td>\n",
       "      <td>Operation</td>\n",
       "      <td>Male</td>\n",
       "      <td>0.00</td>\n",
       "      <td>0</td>\n",
       "      <td>7.00</td>\n",
       "      <td>Marr.</td>\n",
       "      <td>32.05</td>\n",
       "      <td>Direct</td>\n",
       "      <td>0</td>\n",
       "      <td>1</td>\n",
       "      <td>1</td>\n",
       "      <td>0</td>\n",
       "    </tr>\n",
       "  </tbody>\n",
       "</table>\n",
       "</div>"
      ],
      "text/plain": [
       "    Location Emp. Group   Function Gender   Tenure  Tenure Grp.  \\\n",
       "0       Pune         B2  Operation    Male    0.00            0   \n",
       "1      Noida         B7    Support    Male    0.00            0   \n",
       "2  Bangalore         B3  Operation    Male    0.01            0   \n",
       "3      Noida         B2  Operation    Male    0.01            0   \n",
       "4    Lucknow         B2  Operation    Male    0.00            0   \n",
       "\n",
       "   Experience (YY.MM) Marital Status  Age in YY. Hiring Source  \\\n",
       "0                6.08         Single       27.12        Direct   \n",
       "1               13.00          Marr.       38.08        Direct   \n",
       "2               16.05          Marr.       36.04        Direct   \n",
       "3                6.06          Marr.       32.07        Direct   \n",
       "4                7.00          Marr.       32.05        Direct   \n",
       "\n",
       "   Promoted/Non Promoted  Job Role Match  Stay/Left  New location  \n",
       "0                      0               1          0             4  \n",
       "1                      1               0          1             7  \n",
       "2                      1               1          1             6  \n",
       "3                      1               1          1             7  \n",
       "4                      0               1          1             0  "
      ]
     },
     "execution_count": 41,
     "metadata": {},
     "output_type": "execute_result"
    }
   ],
   "source": [
    "def location(x):\n",
    "    if str(x) in loc_dict_new.keys():\n",
    "        return loc_dict_new[str(x)]\n",
    "    else:\n",
    "        return loc_dict_new['other_city']\n",
    "\n",
    "data_l=dfnew['Location'].apply(location)\n",
    "dfnew['New location']=data_l\n",
    "dfnew.head()"
   ]
  },
  {
   "cell_type": "code",
   "execution_count": 42,
   "id": "a1724293",
   "metadata": {},
   "outputs": [],
   "source": [
    "Emp_dict_new = {\n",
    "    'B1': 4,\n",
    "    'B2': 3,\n",
    "    'B3': 2,\n",
    "    'other group': 1,\n",
    "}"
   ]
  },
  {
   "cell_type": "code",
   "execution_count": 43,
   "id": "c5cf627c",
   "metadata": {},
   "outputs": [
    {
     "data": {
      "text/html": [
       "<div>\n",
       "<style scoped>\n",
       "    .dataframe tbody tr th:only-of-type {\n",
       "        vertical-align: middle;\n",
       "    }\n",
       "\n",
       "    .dataframe tbody tr th {\n",
       "        vertical-align: top;\n",
       "    }\n",
       "\n",
       "    .dataframe thead th {\n",
       "        text-align: right;\n",
       "    }\n",
       "</style>\n",
       "<table border=\"1\" class=\"dataframe\">\n",
       "  <thead>\n",
       "    <tr style=\"text-align: right;\">\n",
       "      <th></th>\n",
       "      <th>Location</th>\n",
       "      <th>Emp. Group</th>\n",
       "      <th>Function</th>\n",
       "      <th>Gender</th>\n",
       "      <th>Tenure</th>\n",
       "      <th>Tenure Grp.</th>\n",
       "      <th>Experience (YY.MM)</th>\n",
       "      <th>Marital Status</th>\n",
       "      <th>Age in YY.</th>\n",
       "      <th>Hiring Source</th>\n",
       "      <th>Promoted/Non Promoted</th>\n",
       "      <th>Job Role Match</th>\n",
       "      <th>Stay/Left</th>\n",
       "      <th>New location</th>\n",
       "      <th>New EMPGroup</th>\n",
       "    </tr>\n",
       "  </thead>\n",
       "  <tbody>\n",
       "    <tr>\n",
       "      <th>0</th>\n",
       "      <td>Pune</td>\n",
       "      <td>B2</td>\n",
       "      <td>Operation</td>\n",
       "      <td>Male</td>\n",
       "      <td>0.00</td>\n",
       "      <td>0</td>\n",
       "      <td>6.08</td>\n",
       "      <td>Single</td>\n",
       "      <td>27.12</td>\n",
       "      <td>Direct</td>\n",
       "      <td>0</td>\n",
       "      <td>1</td>\n",
       "      <td>0</td>\n",
       "      <td>4</td>\n",
       "      <td>B2</td>\n",
       "    </tr>\n",
       "    <tr>\n",
       "      <th>1</th>\n",
       "      <td>Noida</td>\n",
       "      <td>B7</td>\n",
       "      <td>Support</td>\n",
       "      <td>Male</td>\n",
       "      <td>0.00</td>\n",
       "      <td>0</td>\n",
       "      <td>13.00</td>\n",
       "      <td>Marr.</td>\n",
       "      <td>38.08</td>\n",
       "      <td>Direct</td>\n",
       "      <td>1</td>\n",
       "      <td>0</td>\n",
       "      <td>1</td>\n",
       "      <td>7</td>\n",
       "      <td>other group</td>\n",
       "    </tr>\n",
       "    <tr>\n",
       "      <th>2</th>\n",
       "      <td>Bangalore</td>\n",
       "      <td>B3</td>\n",
       "      <td>Operation</td>\n",
       "      <td>Male</td>\n",
       "      <td>0.01</td>\n",
       "      <td>0</td>\n",
       "      <td>16.05</td>\n",
       "      <td>Marr.</td>\n",
       "      <td>36.04</td>\n",
       "      <td>Direct</td>\n",
       "      <td>1</td>\n",
       "      <td>1</td>\n",
       "      <td>1</td>\n",
       "      <td>6</td>\n",
       "      <td>B3</td>\n",
       "    </tr>\n",
       "    <tr>\n",
       "      <th>3</th>\n",
       "      <td>Noida</td>\n",
       "      <td>B2</td>\n",
       "      <td>Operation</td>\n",
       "      <td>Male</td>\n",
       "      <td>0.01</td>\n",
       "      <td>0</td>\n",
       "      <td>6.06</td>\n",
       "      <td>Marr.</td>\n",
       "      <td>32.07</td>\n",
       "      <td>Direct</td>\n",
       "      <td>1</td>\n",
       "      <td>1</td>\n",
       "      <td>1</td>\n",
       "      <td>7</td>\n",
       "      <td>B2</td>\n",
       "    </tr>\n",
       "    <tr>\n",
       "      <th>4</th>\n",
       "      <td>Lucknow</td>\n",
       "      <td>B2</td>\n",
       "      <td>Operation</td>\n",
       "      <td>Male</td>\n",
       "      <td>0.00</td>\n",
       "      <td>0</td>\n",
       "      <td>7.00</td>\n",
       "      <td>Marr.</td>\n",
       "      <td>32.05</td>\n",
       "      <td>Direct</td>\n",
       "      <td>0</td>\n",
       "      <td>1</td>\n",
       "      <td>1</td>\n",
       "      <td>0</td>\n",
       "      <td>B2</td>\n",
       "    </tr>\n",
       "  </tbody>\n",
       "</table>\n",
       "</div>"
      ],
      "text/plain": [
       "    Location Emp. Group   Function Gender   Tenure  Tenure Grp.  \\\n",
       "0       Pune         B2  Operation    Male    0.00            0   \n",
       "1      Noida         B7    Support    Male    0.00            0   \n",
       "2  Bangalore         B3  Operation    Male    0.01            0   \n",
       "3      Noida         B2  Operation    Male    0.01            0   \n",
       "4    Lucknow         B2  Operation    Male    0.00            0   \n",
       "\n",
       "   Experience (YY.MM) Marital Status  Age in YY. Hiring Source  \\\n",
       "0                6.08         Single       27.12        Direct   \n",
       "1               13.00          Marr.       38.08        Direct   \n",
       "2               16.05          Marr.       36.04        Direct   \n",
       "3                6.06          Marr.       32.07        Direct   \n",
       "4                7.00          Marr.       32.05        Direct   \n",
       "\n",
       "   Promoted/Non Promoted  Job Role Match  Stay/Left  New location New EMPGroup  \n",
       "0                      0               1          0             4           B2  \n",
       "1                      1               0          1             7  other group  \n",
       "2                      1               1          1             6           B3  \n",
       "3                      1               1          1             7           B2  \n",
       "4                      0               1          1             0           B2  "
      ]
     },
     "execution_count": 43,
     "metadata": {},
     "output_type": "execute_result"
    }
   ],
   "source": [
    "def emp(x):\n",
    "    if str(x) in Emp_dict_new.keys():\n",
    "        return str(x)\n",
    "    else:\n",
    "        return 'other group'\n",
    "data_l = dfnew[\"Emp. Group\"].apply(emp)\n",
    "dfnew['New EMPGroup'] = data_l\n",
    "dfnew.head()"
   ]
  },
  {
   "cell_type": "markdown",
   "id": "3f2d8fb7",
   "metadata": {},
   "source": [
    "# Lets use get_dummy & one hot encoding...."
   ]
  },
  {
   "cell_type": "code",
   "execution_count": 44,
   "id": "24f70f33",
   "metadata": {},
   "outputs": [
    {
     "data": {
      "text/html": [
       "<div>\n",
       "<style scoped>\n",
       "    .dataframe tbody tr th:only-of-type {\n",
       "        vertical-align: middle;\n",
       "    }\n",
       "\n",
       "    .dataframe tbody tr th {\n",
       "        vertical-align: top;\n",
       "    }\n",
       "\n",
       "    .dataframe thead th {\n",
       "        text-align: right;\n",
       "    }\n",
       "</style>\n",
       "<table border=\"1\" class=\"dataframe\">\n",
       "  <thead>\n",
       "    <tr style=\"text-align: right;\">\n",
       "      <th></th>\n",
       "      <th>B1</th>\n",
       "      <th>B2</th>\n",
       "      <th>B3</th>\n",
       "      <th>other group</th>\n",
       "    </tr>\n",
       "  </thead>\n",
       "  <tbody>\n",
       "    <tr>\n",
       "      <th>0</th>\n",
       "      <td>0</td>\n",
       "      <td>1</td>\n",
       "      <td>0</td>\n",
       "      <td>0</td>\n",
       "    </tr>\n",
       "    <tr>\n",
       "      <th>1</th>\n",
       "      <td>0</td>\n",
       "      <td>0</td>\n",
       "      <td>0</td>\n",
       "      <td>1</td>\n",
       "    </tr>\n",
       "    <tr>\n",
       "      <th>2</th>\n",
       "      <td>0</td>\n",
       "      <td>0</td>\n",
       "      <td>1</td>\n",
       "      <td>0</td>\n",
       "    </tr>\n",
       "    <tr>\n",
       "      <th>3</th>\n",
       "      <td>0</td>\n",
       "      <td>1</td>\n",
       "      <td>0</td>\n",
       "      <td>0</td>\n",
       "    </tr>\n",
       "    <tr>\n",
       "      <th>4</th>\n",
       "      <td>0</td>\n",
       "      <td>1</td>\n",
       "      <td>0</td>\n",
       "      <td>0</td>\n",
       "    </tr>\n",
       "  </tbody>\n",
       "</table>\n",
       "</div>"
      ],
      "text/plain": [
       "   B1  B2  B3  other group\n",
       "0   0   1   0            0\n",
       "1   0   0   0            1\n",
       "2   0   0   1            0\n",
       "3   0   1   0            0\n",
       "4   0   1   0            0"
      ]
     },
     "execution_count": 44,
     "metadata": {},
     "output_type": "execute_result"
    }
   ],
   "source": [
    "Emp_dummy_group=pd.get_dummies(dfnew['New EMPGroup'])\n",
    "Emp_dummy_group.head()"
   ]
  },
  {
   "cell_type": "code",
   "execution_count": 45,
   "id": "19cadac9",
   "metadata": {},
   "outputs": [
    {
     "data": {
      "text/html": [
       "<div>\n",
       "<style scoped>\n",
       "    .dataframe tbody tr th:only-of-type {\n",
       "        vertical-align: middle;\n",
       "    }\n",
       "\n",
       "    .dataframe tbody tr th {\n",
       "        vertical-align: top;\n",
       "    }\n",
       "\n",
       "    .dataframe thead th {\n",
       "        text-align: right;\n",
       "    }\n",
       "</style>\n",
       "<table border=\"1\" class=\"dataframe\">\n",
       "  <thead>\n",
       "    <tr style=\"text-align: right;\">\n",
       "      <th></th>\n",
       "      <th>B1</th>\n",
       "      <th>B2</th>\n",
       "      <th>B3</th>\n",
       "    </tr>\n",
       "  </thead>\n",
       "  <tbody>\n",
       "    <tr>\n",
       "      <th>0</th>\n",
       "      <td>0</td>\n",
       "      <td>1</td>\n",
       "      <td>0</td>\n",
       "    </tr>\n",
       "    <tr>\n",
       "      <th>1</th>\n",
       "      <td>0</td>\n",
       "      <td>0</td>\n",
       "      <td>0</td>\n",
       "    </tr>\n",
       "    <tr>\n",
       "      <th>2</th>\n",
       "      <td>0</td>\n",
       "      <td>0</td>\n",
       "      <td>1</td>\n",
       "    </tr>\n",
       "    <tr>\n",
       "      <th>3</th>\n",
       "      <td>0</td>\n",
       "      <td>1</td>\n",
       "      <td>0</td>\n",
       "    </tr>\n",
       "    <tr>\n",
       "      <th>4</th>\n",
       "      <td>0</td>\n",
       "      <td>1</td>\n",
       "      <td>0</td>\n",
       "    </tr>\n",
       "  </tbody>\n",
       "</table>\n",
       "</div>"
      ],
      "text/plain": [
       "   B1  B2  B3\n",
       "0   0   1   0\n",
       "1   0   0   0\n",
       "2   0   0   1\n",
       "3   0   1   0\n",
       "4   0   1   0"
      ]
     },
     "execution_count": 45,
     "metadata": {},
     "output_type": "execute_result"
    }
   ],
   "source": [
    "Emp_dum=Emp_dummy_group.iloc[:,:3]\n",
    "Emp_dum.head()"
   ]
  },
  {
   "cell_type": "code",
   "execution_count": 46,
   "id": "c0ea91eb",
   "metadata": {},
   "outputs": [
    {
     "data": {
      "text/html": [
       "<div>\n",
       "<style scoped>\n",
       "    .dataframe tbody tr th:only-of-type {\n",
       "        vertical-align: middle;\n",
       "    }\n",
       "\n",
       "    .dataframe tbody tr th {\n",
       "        vertical-align: top;\n",
       "    }\n",
       "\n",
       "    .dataframe thead th {\n",
       "        text-align: right;\n",
       "    }\n",
       "</style>\n",
       "<table border=\"1\" class=\"dataframe\">\n",
       "  <thead>\n",
       "    <tr style=\"text-align: right;\">\n",
       "      <th></th>\n",
       "      <th>Operation</th>\n",
       "      <th>Sales</th>\n",
       "      <th>Support</th>\n",
       "    </tr>\n",
       "  </thead>\n",
       "  <tbody>\n",
       "    <tr>\n",
       "      <th>0</th>\n",
       "      <td>1</td>\n",
       "      <td>0</td>\n",
       "      <td>0</td>\n",
       "    </tr>\n",
       "    <tr>\n",
       "      <th>1</th>\n",
       "      <td>0</td>\n",
       "      <td>0</td>\n",
       "      <td>1</td>\n",
       "    </tr>\n",
       "    <tr>\n",
       "      <th>2</th>\n",
       "      <td>1</td>\n",
       "      <td>0</td>\n",
       "      <td>0</td>\n",
       "    </tr>\n",
       "    <tr>\n",
       "      <th>3</th>\n",
       "      <td>1</td>\n",
       "      <td>0</td>\n",
       "      <td>0</td>\n",
       "    </tr>\n",
       "    <tr>\n",
       "      <th>4</th>\n",
       "      <td>1</td>\n",
       "      <td>0</td>\n",
       "      <td>0</td>\n",
       "    </tr>\n",
       "  </tbody>\n",
       "</table>\n",
       "</div>"
      ],
      "text/plain": [
       "   Operation  Sales  Support\n",
       "0          1      0        0\n",
       "1          0      0        1\n",
       "2          1      0        0\n",
       "3          1      0        0\n",
       "4          1      0        0"
      ]
     },
     "execution_count": 46,
     "metadata": {},
     "output_type": "execute_result"
    }
   ],
   "source": [
    "Function_dummy=pd.get_dummies(dfnew['Function'])\n",
    "Function_dummy.head()"
   ]
  },
  {
   "cell_type": "code",
   "execution_count": 47,
   "id": "0f899068",
   "metadata": {},
   "outputs": [
    {
     "data": {
      "text/html": [
       "<div>\n",
       "<style scoped>\n",
       "    .dataframe tbody tr th:only-of-type {\n",
       "        vertical-align: middle;\n",
       "    }\n",
       "\n",
       "    .dataframe tbody tr th {\n",
       "        vertical-align: top;\n",
       "    }\n",
       "\n",
       "    .dataframe thead th {\n",
       "        text-align: right;\n",
       "    }\n",
       "</style>\n",
       "<table border=\"1\" class=\"dataframe\">\n",
       "  <thead>\n",
       "    <tr style=\"text-align: right;\">\n",
       "      <th></th>\n",
       "      <th>Operation</th>\n",
       "      <th>Sales</th>\n",
       "    </tr>\n",
       "  </thead>\n",
       "  <tbody>\n",
       "    <tr>\n",
       "      <th>0</th>\n",
       "      <td>1</td>\n",
       "      <td>0</td>\n",
       "    </tr>\n",
       "    <tr>\n",
       "      <th>1</th>\n",
       "      <td>0</td>\n",
       "      <td>0</td>\n",
       "    </tr>\n",
       "    <tr>\n",
       "      <th>2</th>\n",
       "      <td>1</td>\n",
       "      <td>0</td>\n",
       "    </tr>\n",
       "    <tr>\n",
       "      <th>3</th>\n",
       "      <td>1</td>\n",
       "      <td>0</td>\n",
       "    </tr>\n",
       "    <tr>\n",
       "      <th>4</th>\n",
       "      <td>1</td>\n",
       "      <td>0</td>\n",
       "    </tr>\n",
       "  </tbody>\n",
       "</table>\n",
       "</div>"
      ],
      "text/plain": [
       "   Operation  Sales\n",
       "0          1      0\n",
       "1          0      0\n",
       "2          1      0\n",
       "3          1      0\n",
       "4          1      0"
      ]
     },
     "execution_count": 47,
     "metadata": {},
     "output_type": "execute_result"
    }
   ],
   "source": [
    "Func_dumm=Function_dummy.iloc[:,:2]\n",
    "Func_dumm.head()"
   ]
  },
  {
   "cell_type": "code",
   "execution_count": 48,
   "id": "c69e0677",
   "metadata": {},
   "outputs": [
    {
     "data": {
      "text/html": [
       "<div>\n",
       "<style scoped>\n",
       "    .dataframe tbody tr th:only-of-type {\n",
       "        vertical-align: middle;\n",
       "    }\n",
       "\n",
       "    .dataframe tbody tr th {\n",
       "        vertical-align: top;\n",
       "    }\n",
       "\n",
       "    .dataframe thead th {\n",
       "        text-align: right;\n",
       "    }\n",
       "</style>\n",
       "<table border=\"1\" class=\"dataframe\">\n",
       "  <thead>\n",
       "    <tr style=\"text-align: right;\">\n",
       "      <th></th>\n",
       "      <th>Female</th>\n",
       "      <th>Male</th>\n",
       "      <th>other</th>\n",
       "    </tr>\n",
       "  </thead>\n",
       "  <tbody>\n",
       "    <tr>\n",
       "      <th>0</th>\n",
       "      <td>0</td>\n",
       "      <td>1</td>\n",
       "      <td>0</td>\n",
       "    </tr>\n",
       "    <tr>\n",
       "      <th>1</th>\n",
       "      <td>0</td>\n",
       "      <td>1</td>\n",
       "      <td>0</td>\n",
       "    </tr>\n",
       "    <tr>\n",
       "      <th>2</th>\n",
       "      <td>0</td>\n",
       "      <td>1</td>\n",
       "      <td>0</td>\n",
       "    </tr>\n",
       "    <tr>\n",
       "      <th>3</th>\n",
       "      <td>0</td>\n",
       "      <td>1</td>\n",
       "      <td>0</td>\n",
       "    </tr>\n",
       "    <tr>\n",
       "      <th>4</th>\n",
       "      <td>0</td>\n",
       "      <td>1</td>\n",
       "      <td>0</td>\n",
       "    </tr>\n",
       "  </tbody>\n",
       "</table>\n",
       "</div>"
      ],
      "text/plain": [
       "   Female  Male  other\n",
       "0       0     1      0\n",
       "1       0     1      0\n",
       "2       0     1      0\n",
       "3       0     1      0\n",
       "4       0     1      0"
      ]
     },
     "execution_count": 48,
     "metadata": {},
     "output_type": "execute_result"
    }
   ],
   "source": [
    "Gender_dummy=pd.get_dummies(dfnew['Gender '])\n",
    "Gender_dummy.head()"
   ]
  },
  {
   "cell_type": "code",
   "execution_count": 49,
   "id": "ca6f2a7e",
   "metadata": {},
   "outputs": [
    {
     "data": {
      "text/html": [
       "<div>\n",
       "<style scoped>\n",
       "    .dataframe tbody tr th:only-of-type {\n",
       "        vertical-align: middle;\n",
       "    }\n",
       "\n",
       "    .dataframe tbody tr th {\n",
       "        vertical-align: top;\n",
       "    }\n",
       "\n",
       "    .dataframe thead th {\n",
       "        text-align: right;\n",
       "    }\n",
       "</style>\n",
       "<table border=\"1\" class=\"dataframe\">\n",
       "  <thead>\n",
       "    <tr style=\"text-align: right;\">\n",
       "      <th></th>\n",
       "      <th>Female</th>\n",
       "      <th>Male</th>\n",
       "    </tr>\n",
       "  </thead>\n",
       "  <tbody>\n",
       "    <tr>\n",
       "      <th>0</th>\n",
       "      <td>0</td>\n",
       "      <td>1</td>\n",
       "    </tr>\n",
       "    <tr>\n",
       "      <th>1</th>\n",
       "      <td>0</td>\n",
       "      <td>1</td>\n",
       "    </tr>\n",
       "    <tr>\n",
       "      <th>2</th>\n",
       "      <td>0</td>\n",
       "      <td>1</td>\n",
       "    </tr>\n",
       "    <tr>\n",
       "      <th>3</th>\n",
       "      <td>0</td>\n",
       "      <td>1</td>\n",
       "    </tr>\n",
       "    <tr>\n",
       "      <th>4</th>\n",
       "      <td>0</td>\n",
       "      <td>1</td>\n",
       "    </tr>\n",
       "  </tbody>\n",
       "</table>\n",
       "</div>"
      ],
      "text/plain": [
       "   Female  Male\n",
       "0       0     1\n",
       "1       0     1\n",
       "2       0     1\n",
       "3       0     1\n",
       "4       0     1"
      ]
     },
     "execution_count": 49,
     "metadata": {},
     "output_type": "execute_result"
    }
   ],
   "source": [
    "Gendr_dumm=Gender_dummy.iloc[:,:2]\n",
    "Gendr_dumm.head()"
   ]
  },
  {
   "cell_type": "code",
   "execution_count": 50,
   "id": "39ce7a25",
   "metadata": {},
   "outputs": [
    {
     "data": {
      "text/html": [
       "<div>\n",
       "<style scoped>\n",
       "    .dataframe tbody tr th:only-of-type {\n",
       "        vertical-align: middle;\n",
       "    }\n",
       "\n",
       "    .dataframe tbody tr th {\n",
       "        vertical-align: top;\n",
       "    }\n",
       "\n",
       "    .dataframe thead th {\n",
       "        text-align: right;\n",
       "    }\n",
       "</style>\n",
       "<table border=\"1\" class=\"dataframe\">\n",
       "  <thead>\n",
       "    <tr style=\"text-align: right;\">\n",
       "      <th></th>\n",
       "      <th>Div.</th>\n",
       "      <th>Marr.</th>\n",
       "      <th>NTBD</th>\n",
       "      <th>Sep.</th>\n",
       "      <th>Single</th>\n",
       "    </tr>\n",
       "  </thead>\n",
       "  <tbody>\n",
       "    <tr>\n",
       "      <th>0</th>\n",
       "      <td>0</td>\n",
       "      <td>0</td>\n",
       "      <td>0</td>\n",
       "      <td>0</td>\n",
       "      <td>1</td>\n",
       "    </tr>\n",
       "    <tr>\n",
       "      <th>1</th>\n",
       "      <td>0</td>\n",
       "      <td>1</td>\n",
       "      <td>0</td>\n",
       "      <td>0</td>\n",
       "      <td>0</td>\n",
       "    </tr>\n",
       "    <tr>\n",
       "      <th>2</th>\n",
       "      <td>0</td>\n",
       "      <td>1</td>\n",
       "      <td>0</td>\n",
       "      <td>0</td>\n",
       "      <td>0</td>\n",
       "    </tr>\n",
       "    <tr>\n",
       "      <th>3</th>\n",
       "      <td>0</td>\n",
       "      <td>1</td>\n",
       "      <td>0</td>\n",
       "      <td>0</td>\n",
       "      <td>0</td>\n",
       "    </tr>\n",
       "    <tr>\n",
       "      <th>4</th>\n",
       "      <td>0</td>\n",
       "      <td>1</td>\n",
       "      <td>0</td>\n",
       "      <td>0</td>\n",
       "      <td>0</td>\n",
       "    </tr>\n",
       "  </tbody>\n",
       "</table>\n",
       "</div>"
      ],
      "text/plain": [
       "   Div.  Marr.  NTBD  Sep.  Single\n",
       "0     0      0     0     0       1\n",
       "1     0      1     0     0       0\n",
       "2     0      1     0     0       0\n",
       "3     0      1     0     0       0\n",
       "4     0      1     0     0       0"
      ]
     },
     "execution_count": 50,
     "metadata": {},
     "output_type": "execute_result"
    }
   ],
   "source": [
    "Marrital_dummy=pd.get_dummies(dfnew['Marital Status'])\n",
    "Marrital_dummy.head()"
   ]
  },
  {
   "cell_type": "code",
   "execution_count": 51,
   "id": "a04ac3c1",
   "metadata": {},
   "outputs": [
    {
     "data": {
      "text/html": [
       "<div>\n",
       "<style scoped>\n",
       "    .dataframe tbody tr th:only-of-type {\n",
       "        vertical-align: middle;\n",
       "    }\n",
       "\n",
       "    .dataframe tbody tr th {\n",
       "        vertical-align: top;\n",
       "    }\n",
       "\n",
       "    .dataframe thead th {\n",
       "        text-align: right;\n",
       "    }\n",
       "</style>\n",
       "<table border=\"1\" class=\"dataframe\">\n",
       "  <thead>\n",
       "    <tr style=\"text-align: right;\">\n",
       "      <th></th>\n",
       "      <th>Div.</th>\n",
       "      <th>Marr.</th>\n",
       "      <th>NTBD</th>\n",
       "      <th>Sep.</th>\n",
       "    </tr>\n",
       "  </thead>\n",
       "  <tbody>\n",
       "    <tr>\n",
       "      <th>0</th>\n",
       "      <td>0</td>\n",
       "      <td>0</td>\n",
       "      <td>0</td>\n",
       "      <td>0</td>\n",
       "    </tr>\n",
       "    <tr>\n",
       "      <th>1</th>\n",
       "      <td>0</td>\n",
       "      <td>1</td>\n",
       "      <td>0</td>\n",
       "      <td>0</td>\n",
       "    </tr>\n",
       "    <tr>\n",
       "      <th>2</th>\n",
       "      <td>0</td>\n",
       "      <td>1</td>\n",
       "      <td>0</td>\n",
       "      <td>0</td>\n",
       "    </tr>\n",
       "    <tr>\n",
       "      <th>3</th>\n",
       "      <td>0</td>\n",
       "      <td>1</td>\n",
       "      <td>0</td>\n",
       "      <td>0</td>\n",
       "    </tr>\n",
       "    <tr>\n",
       "      <th>4</th>\n",
       "      <td>0</td>\n",
       "      <td>1</td>\n",
       "      <td>0</td>\n",
       "      <td>0</td>\n",
       "    </tr>\n",
       "  </tbody>\n",
       "</table>\n",
       "</div>"
      ],
      "text/plain": [
       "   Div.  Marr.  NTBD  Sep.\n",
       "0     0      0     0     0\n",
       "1     0      1     0     0\n",
       "2     0      1     0     0\n",
       "3     0      1     0     0\n",
       "4     0      1     0     0"
      ]
     },
     "execution_count": 51,
     "metadata": {},
     "output_type": "execute_result"
    }
   ],
   "source": [
    "Marr_dumm=Marrital_dummy.iloc[:,:4]\n",
    "Marr_dumm.head()"
   ]
  },
  {
   "cell_type": "code",
   "execution_count": 52,
   "id": "b639f600",
   "metadata": {},
   "outputs": [
    {
     "data": {
      "text/html": [
       "<div>\n",
       "<style scoped>\n",
       "    .dataframe tbody tr th:only-of-type {\n",
       "        vertical-align: middle;\n",
       "    }\n",
       "\n",
       "    .dataframe tbody tr th {\n",
       "        vertical-align: top;\n",
       "    }\n",
       "\n",
       "    .dataframe thead th {\n",
       "        text-align: right;\n",
       "    }\n",
       "</style>\n",
       "<table border=\"1\" class=\"dataframe\">\n",
       "  <thead>\n",
       "    <tr style=\"text-align: right;\">\n",
       "      <th></th>\n",
       "      <th>Agency</th>\n",
       "      <th>Direct</th>\n",
       "      <th>Employee Referral</th>\n",
       "    </tr>\n",
       "  </thead>\n",
       "  <tbody>\n",
       "    <tr>\n",
       "      <th>0</th>\n",
       "      <td>0</td>\n",
       "      <td>1</td>\n",
       "      <td>0</td>\n",
       "    </tr>\n",
       "    <tr>\n",
       "      <th>1</th>\n",
       "      <td>0</td>\n",
       "      <td>1</td>\n",
       "      <td>0</td>\n",
       "    </tr>\n",
       "    <tr>\n",
       "      <th>2</th>\n",
       "      <td>0</td>\n",
       "      <td>1</td>\n",
       "      <td>0</td>\n",
       "    </tr>\n",
       "    <tr>\n",
       "      <th>3</th>\n",
       "      <td>0</td>\n",
       "      <td>1</td>\n",
       "      <td>0</td>\n",
       "    </tr>\n",
       "    <tr>\n",
       "      <th>4</th>\n",
       "      <td>0</td>\n",
       "      <td>1</td>\n",
       "      <td>0</td>\n",
       "    </tr>\n",
       "  </tbody>\n",
       "</table>\n",
       "</div>"
      ],
      "text/plain": [
       "   Agency  Direct  Employee Referral\n",
       "0       0       1                  0\n",
       "1       0       1                  0\n",
       "2       0       1                  0\n",
       "3       0       1                  0\n",
       "4       0       1                  0"
      ]
     },
     "execution_count": 52,
     "metadata": {},
     "output_type": "execute_result"
    }
   ],
   "source": [
    "Hiring_dummy=pd.get_dummies(dfnew['Hiring Source'])\n",
    "Hiring_dummy.head()"
   ]
  },
  {
   "cell_type": "code",
   "execution_count": 53,
   "id": "994aad27",
   "metadata": {},
   "outputs": [
    {
     "data": {
      "text/html": [
       "<div>\n",
       "<style scoped>\n",
       "    .dataframe tbody tr th:only-of-type {\n",
       "        vertical-align: middle;\n",
       "    }\n",
       "\n",
       "    .dataframe tbody tr th {\n",
       "        vertical-align: top;\n",
       "    }\n",
       "\n",
       "    .dataframe thead th {\n",
       "        text-align: right;\n",
       "    }\n",
       "</style>\n",
       "<table border=\"1\" class=\"dataframe\">\n",
       "  <thead>\n",
       "    <tr style=\"text-align: right;\">\n",
       "      <th></th>\n",
       "      <th>Agency</th>\n",
       "      <th>Direct</th>\n",
       "    </tr>\n",
       "  </thead>\n",
       "  <tbody>\n",
       "    <tr>\n",
       "      <th>0</th>\n",
       "      <td>0</td>\n",
       "      <td>1</td>\n",
       "    </tr>\n",
       "    <tr>\n",
       "      <th>1</th>\n",
       "      <td>0</td>\n",
       "      <td>1</td>\n",
       "    </tr>\n",
       "    <tr>\n",
       "      <th>2</th>\n",
       "      <td>0</td>\n",
       "      <td>1</td>\n",
       "    </tr>\n",
       "    <tr>\n",
       "      <th>3</th>\n",
       "      <td>0</td>\n",
       "      <td>1</td>\n",
       "    </tr>\n",
       "    <tr>\n",
       "      <th>4</th>\n",
       "      <td>0</td>\n",
       "      <td>1</td>\n",
       "    </tr>\n",
       "  </tbody>\n",
       "</table>\n",
       "</div>"
      ],
      "text/plain": [
       "   Agency  Direct\n",
       "0       0       1\n",
       "1       0       1\n",
       "2       0       1\n",
       "3       0       1\n",
       "4       0       1"
      ]
     },
     "execution_count": 53,
     "metadata": {},
     "output_type": "execute_result"
    }
   ],
   "source": [
    "Hiring_dumm=Hiring_dummy.iloc[:,:2]\n",
    "Hiring_dumm.head()"
   ]
  },
  {
   "cell_type": "code",
   "execution_count": 54,
   "id": "4f3aa21d",
   "metadata": {},
   "outputs": [
    {
     "data": {
      "text/html": [
       "<div>\n",
       "<style scoped>\n",
       "    .dataframe tbody tr th:only-of-type {\n",
       "        vertical-align: middle;\n",
       "    }\n",
       "\n",
       "    .dataframe tbody tr th {\n",
       "        vertical-align: top;\n",
       "    }\n",
       "\n",
       "    .dataframe thead th {\n",
       "        text-align: right;\n",
       "    }\n",
       "</style>\n",
       "<table border=\"1\" class=\"dataframe\">\n",
       "  <thead>\n",
       "    <tr style=\"text-align: right;\">\n",
       "      <th></th>\n",
       "      <th>Location</th>\n",
       "      <th>Emp. Group</th>\n",
       "      <th>Function</th>\n",
       "      <th>Gender</th>\n",
       "      <th>Tenure</th>\n",
       "      <th>Tenure Grp.</th>\n",
       "      <th>Experience (YY.MM)</th>\n",
       "      <th>Marital Status</th>\n",
       "      <th>Age in YY.</th>\n",
       "      <th>Hiring Source</th>\n",
       "      <th>...</th>\n",
       "      <th>Operation</th>\n",
       "      <th>Sales</th>\n",
       "      <th>Female</th>\n",
       "      <th>Male</th>\n",
       "      <th>Div.</th>\n",
       "      <th>Marr.</th>\n",
       "      <th>NTBD</th>\n",
       "      <th>Sep.</th>\n",
       "      <th>Agency</th>\n",
       "      <th>Direct</th>\n",
       "    </tr>\n",
       "  </thead>\n",
       "  <tbody>\n",
       "    <tr>\n",
       "      <th>0</th>\n",
       "      <td>Pune</td>\n",
       "      <td>B2</td>\n",
       "      <td>Operation</td>\n",
       "      <td>Male</td>\n",
       "      <td>0.00</td>\n",
       "      <td>0</td>\n",
       "      <td>6.08</td>\n",
       "      <td>Single</td>\n",
       "      <td>27.12</td>\n",
       "      <td>Direct</td>\n",
       "      <td>...</td>\n",
       "      <td>1</td>\n",
       "      <td>0</td>\n",
       "      <td>0</td>\n",
       "      <td>1</td>\n",
       "      <td>0</td>\n",
       "      <td>0</td>\n",
       "      <td>0</td>\n",
       "      <td>0</td>\n",
       "      <td>0</td>\n",
       "      <td>1</td>\n",
       "    </tr>\n",
       "    <tr>\n",
       "      <th>1</th>\n",
       "      <td>Noida</td>\n",
       "      <td>B7</td>\n",
       "      <td>Support</td>\n",
       "      <td>Male</td>\n",
       "      <td>0.00</td>\n",
       "      <td>0</td>\n",
       "      <td>13.00</td>\n",
       "      <td>Marr.</td>\n",
       "      <td>38.08</td>\n",
       "      <td>Direct</td>\n",
       "      <td>...</td>\n",
       "      <td>0</td>\n",
       "      <td>0</td>\n",
       "      <td>0</td>\n",
       "      <td>1</td>\n",
       "      <td>0</td>\n",
       "      <td>1</td>\n",
       "      <td>0</td>\n",
       "      <td>0</td>\n",
       "      <td>0</td>\n",
       "      <td>1</td>\n",
       "    </tr>\n",
       "    <tr>\n",
       "      <th>2</th>\n",
       "      <td>Bangalore</td>\n",
       "      <td>B3</td>\n",
       "      <td>Operation</td>\n",
       "      <td>Male</td>\n",
       "      <td>0.01</td>\n",
       "      <td>0</td>\n",
       "      <td>16.05</td>\n",
       "      <td>Marr.</td>\n",
       "      <td>36.04</td>\n",
       "      <td>Direct</td>\n",
       "      <td>...</td>\n",
       "      <td>1</td>\n",
       "      <td>0</td>\n",
       "      <td>0</td>\n",
       "      <td>1</td>\n",
       "      <td>0</td>\n",
       "      <td>1</td>\n",
       "      <td>0</td>\n",
       "      <td>0</td>\n",
       "      <td>0</td>\n",
       "      <td>1</td>\n",
       "    </tr>\n",
       "    <tr>\n",
       "      <th>3</th>\n",
       "      <td>Noida</td>\n",
       "      <td>B2</td>\n",
       "      <td>Operation</td>\n",
       "      <td>Male</td>\n",
       "      <td>0.01</td>\n",
       "      <td>0</td>\n",
       "      <td>6.06</td>\n",
       "      <td>Marr.</td>\n",
       "      <td>32.07</td>\n",
       "      <td>Direct</td>\n",
       "      <td>...</td>\n",
       "      <td>1</td>\n",
       "      <td>0</td>\n",
       "      <td>0</td>\n",
       "      <td>1</td>\n",
       "      <td>0</td>\n",
       "      <td>1</td>\n",
       "      <td>0</td>\n",
       "      <td>0</td>\n",
       "      <td>0</td>\n",
       "      <td>1</td>\n",
       "    </tr>\n",
       "    <tr>\n",
       "      <th>4</th>\n",
       "      <td>Lucknow</td>\n",
       "      <td>B2</td>\n",
       "      <td>Operation</td>\n",
       "      <td>Male</td>\n",
       "      <td>0.00</td>\n",
       "      <td>0</td>\n",
       "      <td>7.00</td>\n",
       "      <td>Marr.</td>\n",
       "      <td>32.05</td>\n",
       "      <td>Direct</td>\n",
       "      <td>...</td>\n",
       "      <td>1</td>\n",
       "      <td>0</td>\n",
       "      <td>0</td>\n",
       "      <td>1</td>\n",
       "      <td>0</td>\n",
       "      <td>1</td>\n",
       "      <td>0</td>\n",
       "      <td>0</td>\n",
       "      <td>0</td>\n",
       "      <td>1</td>\n",
       "    </tr>\n",
       "    <tr>\n",
       "      <th>...</th>\n",
       "      <td>...</td>\n",
       "      <td>...</td>\n",
       "      <td>...</td>\n",
       "      <td>...</td>\n",
       "      <td>...</td>\n",
       "      <td>...</td>\n",
       "      <td>...</td>\n",
       "      <td>...</td>\n",
       "      <td>...</td>\n",
       "      <td>...</td>\n",
       "      <td>...</td>\n",
       "      <td>...</td>\n",
       "      <td>...</td>\n",
       "      <td>...</td>\n",
       "      <td>...</td>\n",
       "      <td>...</td>\n",
       "      <td>...</td>\n",
       "      <td>...</td>\n",
       "      <td>...</td>\n",
       "      <td>...</td>\n",
       "      <td>...</td>\n",
       "    </tr>\n",
       "    <tr>\n",
       "      <th>896</th>\n",
       "      <td>Vijayawada</td>\n",
       "      <td>B1</td>\n",
       "      <td>Operation</td>\n",
       "      <td>Male</td>\n",
       "      <td>0.03</td>\n",
       "      <td>0</td>\n",
       "      <td>0.03</td>\n",
       "      <td>Single</td>\n",
       "      <td>24.06</td>\n",
       "      <td>Direct</td>\n",
       "      <td>...</td>\n",
       "      <td>1</td>\n",
       "      <td>0</td>\n",
       "      <td>0</td>\n",
       "      <td>1</td>\n",
       "      <td>0</td>\n",
       "      <td>0</td>\n",
       "      <td>0</td>\n",
       "      <td>0</td>\n",
       "      <td>0</td>\n",
       "      <td>1</td>\n",
       "    </tr>\n",
       "    <tr>\n",
       "      <th>897</th>\n",
       "      <td>Vijayawada</td>\n",
       "      <td>B1</td>\n",
       "      <td>Operation</td>\n",
       "      <td>Female</td>\n",
       "      <td>0.03</td>\n",
       "      <td>0</td>\n",
       "      <td>0.03</td>\n",
       "      <td>Single</td>\n",
       "      <td>21.09</td>\n",
       "      <td>Direct</td>\n",
       "      <td>...</td>\n",
       "      <td>1</td>\n",
       "      <td>0</td>\n",
       "      <td>1</td>\n",
       "      <td>0</td>\n",
       "      <td>0</td>\n",
       "      <td>0</td>\n",
       "      <td>0</td>\n",
       "      <td>0</td>\n",
       "      <td>0</td>\n",
       "      <td>1</td>\n",
       "    </tr>\n",
       "    <tr>\n",
       "      <th>898</th>\n",
       "      <td>Vijayawada</td>\n",
       "      <td>B1</td>\n",
       "      <td>Operation</td>\n",
       "      <td>Female</td>\n",
       "      <td>0.03</td>\n",
       "      <td>0</td>\n",
       "      <td>0.03</td>\n",
       "      <td>Single</td>\n",
       "      <td>22.02</td>\n",
       "      <td>Direct</td>\n",
       "      <td>...</td>\n",
       "      <td>1</td>\n",
       "      <td>0</td>\n",
       "      <td>1</td>\n",
       "      <td>0</td>\n",
       "      <td>0</td>\n",
       "      <td>0</td>\n",
       "      <td>0</td>\n",
       "      <td>0</td>\n",
       "      <td>0</td>\n",
       "      <td>1</td>\n",
       "    </tr>\n",
       "    <tr>\n",
       "      <th>900</th>\n",
       "      <td>Vijayawada</td>\n",
       "      <td>B1</td>\n",
       "      <td>Operation</td>\n",
       "      <td>Female</td>\n",
       "      <td>0.03</td>\n",
       "      <td>0</td>\n",
       "      <td>0.03</td>\n",
       "      <td>Single</td>\n",
       "      <td>22.02</td>\n",
       "      <td>Direct</td>\n",
       "      <td>...</td>\n",
       "      <td>1</td>\n",
       "      <td>0</td>\n",
       "      <td>1</td>\n",
       "      <td>0</td>\n",
       "      <td>0</td>\n",
       "      <td>0</td>\n",
       "      <td>0</td>\n",
       "      <td>0</td>\n",
       "      <td>0</td>\n",
       "      <td>1</td>\n",
       "    </tr>\n",
       "    <tr>\n",
       "      <th>901</th>\n",
       "      <td>Madurai</td>\n",
       "      <td>B2</td>\n",
       "      <td>Operation</td>\n",
       "      <td>Male</td>\n",
       "      <td>0.02</td>\n",
       "      <td>0</td>\n",
       "      <td>10.02</td>\n",
       "      <td>Marr.</td>\n",
       "      <td>32.08</td>\n",
       "      <td>Direct</td>\n",
       "      <td>...</td>\n",
       "      <td>1</td>\n",
       "      <td>0</td>\n",
       "      <td>0</td>\n",
       "      <td>1</td>\n",
       "      <td>0</td>\n",
       "      <td>1</td>\n",
       "      <td>0</td>\n",
       "      <td>0</td>\n",
       "      <td>0</td>\n",
       "      <td>1</td>\n",
       "    </tr>\n",
       "  </tbody>\n",
       "</table>\n",
       "<p>896 rows × 28 columns</p>\n",
       "</div>"
      ],
      "text/plain": [
       "       Location Emp. Group   Function Gender   Tenure  Tenure Grp.  \\\n",
       "0          Pune         B2  Operation    Male    0.00            0   \n",
       "1         Noida         B7    Support    Male    0.00            0   \n",
       "2     Bangalore         B3  Operation    Male    0.01            0   \n",
       "3         Noida         B2  Operation    Male    0.01            0   \n",
       "4       Lucknow         B2  Operation    Male    0.00            0   \n",
       "..          ...        ...        ...     ...     ...          ...   \n",
       "896  Vijayawada         B1  Operation    Male    0.03            0   \n",
       "897  Vijayawada         B1  Operation  Female    0.03            0   \n",
       "898  Vijayawada         B1  Operation  Female    0.03            0   \n",
       "900  Vijayawada         B1  Operation  Female    0.03            0   \n",
       "901     Madurai         B2  Operation    Male    0.02            0   \n",
       "\n",
       "     Experience (YY.MM) Marital Status  Age in YY. Hiring Source  ...  \\\n",
       "0                  6.08         Single       27.12        Direct  ...   \n",
       "1                 13.00          Marr.       38.08        Direct  ...   \n",
       "2                 16.05          Marr.       36.04        Direct  ...   \n",
       "3                  6.06          Marr.       32.07        Direct  ...   \n",
       "4                  7.00          Marr.       32.05        Direct  ...   \n",
       "..                  ...            ...         ...           ...  ...   \n",
       "896                0.03         Single       24.06        Direct  ...   \n",
       "897                0.03         Single       21.09        Direct  ...   \n",
       "898                0.03         Single       22.02        Direct  ...   \n",
       "900                0.03         Single       22.02        Direct  ...   \n",
       "901               10.02          Marr.       32.08        Direct  ...   \n",
       "\n",
       "     Operation  Sales  Female  Male Div.  Marr.  NTBD  Sep.  Agency  Direct  \n",
       "0            1      0       0     1    0      0     0     0       0       1  \n",
       "1            0      0       0     1    0      1     0     0       0       1  \n",
       "2            1      0       0     1    0      1     0     0       0       1  \n",
       "3            1      0       0     1    0      1     0     0       0       1  \n",
       "4            1      0       0     1    0      1     0     0       0       1  \n",
       "..         ...    ...     ...   ...  ...    ...   ...   ...     ...     ...  \n",
       "896          1      0       0     1    0      0     0     0       0       1  \n",
       "897          1      0       1     0    0      0     0     0       0       1  \n",
       "898          1      0       1     0    0      0     0     0       0       1  \n",
       "900          1      0       1     0    0      0     0     0       0       1  \n",
       "901          1      0       0     1    0      1     0     0       0       1  \n",
       "\n",
       "[896 rows x 28 columns]"
      ]
     },
     "execution_count": 54,
     "metadata": {},
     "output_type": "execute_result"
    }
   ],
   "source": [
    "new_df=pd.concat([dfnew,Emp_dum,Func_dumm,Gendr_dumm,Marr_dumm,Hiring_dumm],axis=1)\n",
    "new_df"
   ]
  },
  {
   "cell_type": "code",
   "execution_count": 55,
   "id": "d59a1c56",
   "metadata": {},
   "outputs": [
    {
     "data": {
      "text/plain": [
       "Index(['Location', 'Emp. Group', 'Function', 'Gender ', 'Tenure',\n",
       "       'Tenure Grp.', 'Experience (YY.MM)', 'Marital Status', 'Age in YY.',\n",
       "       'Hiring Source', 'Promoted/Non Promoted', 'Job Role Match', 'Stay/Left',\n",
       "       'New location', 'New EMPGroup', 'B1', 'B2', 'B3', 'Operation', 'Sales',\n",
       "       'Female', 'Male', 'Div.', 'Marr.', 'NTBD', 'Sep.', 'Agency', 'Direct'],\n",
       "      dtype='object')"
      ]
     },
     "execution_count": 55,
     "metadata": {},
     "output_type": "execute_result"
    }
   ],
   "source": [
    "new_df.columns"
   ]
  },
  {
   "cell_type": "code",
   "execution_count": 56,
   "id": "7fe5419d",
   "metadata": {},
   "outputs": [
    {
     "data": {
      "text/html": [
       "<div>\n",
       "<style scoped>\n",
       "    .dataframe tbody tr th:only-of-type {\n",
       "        vertical-align: middle;\n",
       "    }\n",
       "\n",
       "    .dataframe tbody tr th {\n",
       "        vertical-align: top;\n",
       "    }\n",
       "\n",
       "    .dataframe thead th {\n",
       "        text-align: right;\n",
       "    }\n",
       "</style>\n",
       "<table border=\"1\" class=\"dataframe\">\n",
       "  <thead>\n",
       "    <tr style=\"text-align: right;\">\n",
       "      <th></th>\n",
       "      <th>Tenure</th>\n",
       "      <th>Tenure Grp.</th>\n",
       "      <th>Experience (YY.MM)</th>\n",
       "      <th>Age in YY.</th>\n",
       "      <th>Promoted/Non Promoted</th>\n",
       "      <th>Job Role Match</th>\n",
       "      <th>Stay/Left</th>\n",
       "      <th>New location</th>\n",
       "      <th>B1</th>\n",
       "      <th>B2</th>\n",
       "      <th>...</th>\n",
       "      <th>Operation</th>\n",
       "      <th>Sales</th>\n",
       "      <th>Female</th>\n",
       "      <th>Male</th>\n",
       "      <th>Div.</th>\n",
       "      <th>Marr.</th>\n",
       "      <th>NTBD</th>\n",
       "      <th>Sep.</th>\n",
       "      <th>Agency</th>\n",
       "      <th>Direct</th>\n",
       "    </tr>\n",
       "  </thead>\n",
       "  <tbody>\n",
       "    <tr>\n",
       "      <th>0</th>\n",
       "      <td>0.00</td>\n",
       "      <td>0</td>\n",
       "      <td>6.08</td>\n",
       "      <td>27.12</td>\n",
       "      <td>0</td>\n",
       "      <td>1</td>\n",
       "      <td>0</td>\n",
       "      <td>4</td>\n",
       "      <td>0</td>\n",
       "      <td>1</td>\n",
       "      <td>...</td>\n",
       "      <td>1</td>\n",
       "      <td>0</td>\n",
       "      <td>0</td>\n",
       "      <td>1</td>\n",
       "      <td>0</td>\n",
       "      <td>0</td>\n",
       "      <td>0</td>\n",
       "      <td>0</td>\n",
       "      <td>0</td>\n",
       "      <td>1</td>\n",
       "    </tr>\n",
       "    <tr>\n",
       "      <th>1</th>\n",
       "      <td>0.00</td>\n",
       "      <td>0</td>\n",
       "      <td>13.00</td>\n",
       "      <td>38.08</td>\n",
       "      <td>1</td>\n",
       "      <td>0</td>\n",
       "      <td>1</td>\n",
       "      <td>7</td>\n",
       "      <td>0</td>\n",
       "      <td>0</td>\n",
       "      <td>...</td>\n",
       "      <td>0</td>\n",
       "      <td>0</td>\n",
       "      <td>0</td>\n",
       "      <td>1</td>\n",
       "      <td>0</td>\n",
       "      <td>1</td>\n",
       "      <td>0</td>\n",
       "      <td>0</td>\n",
       "      <td>0</td>\n",
       "      <td>1</td>\n",
       "    </tr>\n",
       "    <tr>\n",
       "      <th>2</th>\n",
       "      <td>0.01</td>\n",
       "      <td>0</td>\n",
       "      <td>16.05</td>\n",
       "      <td>36.04</td>\n",
       "      <td>1</td>\n",
       "      <td>1</td>\n",
       "      <td>1</td>\n",
       "      <td>6</td>\n",
       "      <td>0</td>\n",
       "      <td>0</td>\n",
       "      <td>...</td>\n",
       "      <td>1</td>\n",
       "      <td>0</td>\n",
       "      <td>0</td>\n",
       "      <td>1</td>\n",
       "      <td>0</td>\n",
       "      <td>1</td>\n",
       "      <td>0</td>\n",
       "      <td>0</td>\n",
       "      <td>0</td>\n",
       "      <td>1</td>\n",
       "    </tr>\n",
       "    <tr>\n",
       "      <th>3</th>\n",
       "      <td>0.01</td>\n",
       "      <td>0</td>\n",
       "      <td>6.06</td>\n",
       "      <td>32.07</td>\n",
       "      <td>1</td>\n",
       "      <td>1</td>\n",
       "      <td>1</td>\n",
       "      <td>7</td>\n",
       "      <td>0</td>\n",
       "      <td>1</td>\n",
       "      <td>...</td>\n",
       "      <td>1</td>\n",
       "      <td>0</td>\n",
       "      <td>0</td>\n",
       "      <td>1</td>\n",
       "      <td>0</td>\n",
       "      <td>1</td>\n",
       "      <td>0</td>\n",
       "      <td>0</td>\n",
       "      <td>0</td>\n",
       "      <td>1</td>\n",
       "    </tr>\n",
       "    <tr>\n",
       "      <th>4</th>\n",
       "      <td>0.00</td>\n",
       "      <td>0</td>\n",
       "      <td>7.00</td>\n",
       "      <td>32.05</td>\n",
       "      <td>0</td>\n",
       "      <td>1</td>\n",
       "      <td>1</td>\n",
       "      <td>0</td>\n",
       "      <td>0</td>\n",
       "      <td>1</td>\n",
       "      <td>...</td>\n",
       "      <td>1</td>\n",
       "      <td>0</td>\n",
       "      <td>0</td>\n",
       "      <td>1</td>\n",
       "      <td>0</td>\n",
       "      <td>1</td>\n",
       "      <td>0</td>\n",
       "      <td>0</td>\n",
       "      <td>0</td>\n",
       "      <td>1</td>\n",
       "    </tr>\n",
       "    <tr>\n",
       "      <th>...</th>\n",
       "      <td>...</td>\n",
       "      <td>...</td>\n",
       "      <td>...</td>\n",
       "      <td>...</td>\n",
       "      <td>...</td>\n",
       "      <td>...</td>\n",
       "      <td>...</td>\n",
       "      <td>...</td>\n",
       "      <td>...</td>\n",
       "      <td>...</td>\n",
       "      <td>...</td>\n",
       "      <td>...</td>\n",
       "      <td>...</td>\n",
       "      <td>...</td>\n",
       "      <td>...</td>\n",
       "      <td>...</td>\n",
       "      <td>...</td>\n",
       "      <td>...</td>\n",
       "      <td>...</td>\n",
       "      <td>...</td>\n",
       "      <td>...</td>\n",
       "    </tr>\n",
       "    <tr>\n",
       "      <th>896</th>\n",
       "      <td>0.03</td>\n",
       "      <td>0</td>\n",
       "      <td>0.03</td>\n",
       "      <td>24.06</td>\n",
       "      <td>0</td>\n",
       "      <td>1</td>\n",
       "      <td>1</td>\n",
       "      <td>0</td>\n",
       "      <td>1</td>\n",
       "      <td>0</td>\n",
       "      <td>...</td>\n",
       "      <td>1</td>\n",
       "      <td>0</td>\n",
       "      <td>0</td>\n",
       "      <td>1</td>\n",
       "      <td>0</td>\n",
       "      <td>0</td>\n",
       "      <td>0</td>\n",
       "      <td>0</td>\n",
       "      <td>0</td>\n",
       "      <td>1</td>\n",
       "    </tr>\n",
       "    <tr>\n",
       "      <th>897</th>\n",
       "      <td>0.03</td>\n",
       "      <td>0</td>\n",
       "      <td>0.03</td>\n",
       "      <td>21.09</td>\n",
       "      <td>0</td>\n",
       "      <td>1</td>\n",
       "      <td>1</td>\n",
       "      <td>0</td>\n",
       "      <td>1</td>\n",
       "      <td>0</td>\n",
       "      <td>...</td>\n",
       "      <td>1</td>\n",
       "      <td>0</td>\n",
       "      <td>1</td>\n",
       "      <td>0</td>\n",
       "      <td>0</td>\n",
       "      <td>0</td>\n",
       "      <td>0</td>\n",
       "      <td>0</td>\n",
       "      <td>0</td>\n",
       "      <td>1</td>\n",
       "    </tr>\n",
       "    <tr>\n",
       "      <th>898</th>\n",
       "      <td>0.03</td>\n",
       "      <td>0</td>\n",
       "      <td>0.03</td>\n",
       "      <td>22.02</td>\n",
       "      <td>0</td>\n",
       "      <td>1</td>\n",
       "      <td>0</td>\n",
       "      <td>0</td>\n",
       "      <td>1</td>\n",
       "      <td>0</td>\n",
       "      <td>...</td>\n",
       "      <td>1</td>\n",
       "      <td>0</td>\n",
       "      <td>1</td>\n",
       "      <td>0</td>\n",
       "      <td>0</td>\n",
       "      <td>0</td>\n",
       "      <td>0</td>\n",
       "      <td>0</td>\n",
       "      <td>0</td>\n",
       "      <td>1</td>\n",
       "    </tr>\n",
       "    <tr>\n",
       "      <th>900</th>\n",
       "      <td>0.03</td>\n",
       "      <td>0</td>\n",
       "      <td>0.03</td>\n",
       "      <td>22.02</td>\n",
       "      <td>0</td>\n",
       "      <td>1</td>\n",
       "      <td>1</td>\n",
       "      <td>0</td>\n",
       "      <td>1</td>\n",
       "      <td>0</td>\n",
       "      <td>...</td>\n",
       "      <td>1</td>\n",
       "      <td>0</td>\n",
       "      <td>1</td>\n",
       "      <td>0</td>\n",
       "      <td>0</td>\n",
       "      <td>0</td>\n",
       "      <td>0</td>\n",
       "      <td>0</td>\n",
       "      <td>0</td>\n",
       "      <td>1</td>\n",
       "    </tr>\n",
       "    <tr>\n",
       "      <th>901</th>\n",
       "      <td>0.02</td>\n",
       "      <td>0</td>\n",
       "      <td>10.02</td>\n",
       "      <td>32.08</td>\n",
       "      <td>0</td>\n",
       "      <td>0</td>\n",
       "      <td>1</td>\n",
       "      <td>1</td>\n",
       "      <td>0</td>\n",
       "      <td>1</td>\n",
       "      <td>...</td>\n",
       "      <td>1</td>\n",
       "      <td>0</td>\n",
       "      <td>0</td>\n",
       "      <td>1</td>\n",
       "      <td>0</td>\n",
       "      <td>1</td>\n",
       "      <td>0</td>\n",
       "      <td>0</td>\n",
       "      <td>0</td>\n",
       "      <td>1</td>\n",
       "    </tr>\n",
       "  </tbody>\n",
       "</table>\n",
       "<p>896 rows × 21 columns</p>\n",
       "</div>"
      ],
      "text/plain": [
       "     Tenure  Tenure Grp.  Experience (YY.MM)  Age in YY.  \\\n",
       "0      0.00            0                6.08       27.12   \n",
       "1      0.00            0               13.00       38.08   \n",
       "2      0.01            0               16.05       36.04   \n",
       "3      0.01            0                6.06       32.07   \n",
       "4      0.00            0                7.00       32.05   \n",
       "..      ...          ...                 ...         ...   \n",
       "896    0.03            0                0.03       24.06   \n",
       "897    0.03            0                0.03       21.09   \n",
       "898    0.03            0                0.03       22.02   \n",
       "900    0.03            0                0.03       22.02   \n",
       "901    0.02            0               10.02       32.08   \n",
       "\n",
       "     Promoted/Non Promoted  Job Role Match  Stay/Left  New location  B1  B2  \\\n",
       "0                        0               1          0             4   0   1   \n",
       "1                        1               0          1             7   0   0   \n",
       "2                        1               1          1             6   0   0   \n",
       "3                        1               1          1             7   0   1   \n",
       "4                        0               1          1             0   0   1   \n",
       "..                     ...             ...        ...           ...  ..  ..   \n",
       "896                      0               1          1             0   1   0   \n",
       "897                      0               1          1             0   1   0   \n",
       "898                      0               1          0             0   1   0   \n",
       "900                      0               1          1             0   1   0   \n",
       "901                      0               0          1             1   0   1   \n",
       "\n",
       "     ...  Operation  Sales  Female  Male  Div.  Marr.  NTBD  Sep.  Agency  \\\n",
       "0    ...          1      0       0     1     0      0     0     0       0   \n",
       "1    ...          0      0       0     1     0      1     0     0       0   \n",
       "2    ...          1      0       0     1     0      1     0     0       0   \n",
       "3    ...          1      0       0     1     0      1     0     0       0   \n",
       "4    ...          1      0       0     1     0      1     0     0       0   \n",
       "..   ...        ...    ...     ...   ...   ...    ...   ...   ...     ...   \n",
       "896  ...          1      0       0     1     0      0     0     0       0   \n",
       "897  ...          1      0       1     0     0      0     0     0       0   \n",
       "898  ...          1      0       1     0     0      0     0     0       0   \n",
       "900  ...          1      0       1     0     0      0     0     0       0   \n",
       "901  ...          1      0       0     1     0      1     0     0       0   \n",
       "\n",
       "     Direct  \n",
       "0         1  \n",
       "1         1  \n",
       "2         1  \n",
       "3         1  \n",
       "4         1  \n",
       "..      ...  \n",
       "896       1  \n",
       "897       1  \n",
       "898       1  \n",
       "900       1  \n",
       "901       1  \n",
       "\n",
       "[896 rows x 21 columns]"
      ]
     },
     "execution_count": 56,
     "metadata": {},
     "output_type": "execute_result"
    }
   ],
   "source": [
    "dataset=new_df.drop(['Location','Emp. Group','Function','Gender ','Marital Status','Hiring Source','New EMPGroup'],axis=1)\n",
    "dataset"
   ]
  },
  {
   "cell_type": "code",
   "execution_count": 57,
   "id": "7982a79d",
   "metadata": {},
   "outputs": [
    {
     "data": {
      "text/plain": [
       "(896, 21)"
      ]
     },
     "execution_count": 57,
     "metadata": {},
     "output_type": "execute_result"
    }
   ],
   "source": [
    "dataset.shape"
   ]
  },
  {
   "cell_type": "code",
   "execution_count": 58,
   "id": "f1cb534b",
   "metadata": {},
   "outputs": [
    {
     "data": {
      "text/plain": [
       "Index(['Tenure', 'Tenure Grp.', 'Experience (YY.MM)', 'Age in YY.',\n",
       "       'Promoted/Non Promoted', 'Job Role Match', 'Stay/Left', 'New location',\n",
       "       'B1', 'B2', 'B3', 'Operation', 'Sales', 'Female', 'Male', 'Div.',\n",
       "       'Marr.', 'NTBD', 'Sep.', 'Agency', 'Direct'],\n",
       "      dtype='object')"
      ]
     },
     "execution_count": 58,
     "metadata": {},
     "output_type": "execute_result"
    }
   ],
   "source": [
    "dataset.columns"
   ]
  },
  {
   "cell_type": "code",
   "execution_count": 59,
   "id": "20479586",
   "metadata": {},
   "outputs": [
    {
     "data": {
      "text/html": [
       "<div>\n",
       "<style scoped>\n",
       "    .dataframe tbody tr th:only-of-type {\n",
       "        vertical-align: middle;\n",
       "    }\n",
       "\n",
       "    .dataframe tbody tr th {\n",
       "        vertical-align: top;\n",
       "    }\n",
       "\n",
       "    .dataframe thead th {\n",
       "        text-align: right;\n",
       "    }\n",
       "</style>\n",
       "<table border=\"1\" class=\"dataframe\">\n",
       "  <thead>\n",
       "    <tr style=\"text-align: right;\">\n",
       "      <th></th>\n",
       "      <th>Tenure</th>\n",
       "      <th>Tenure Grp.</th>\n",
       "      <th>Experience (YY.MM)</th>\n",
       "      <th>Age in YY.</th>\n",
       "      <th>Promoted/Non Promoted</th>\n",
       "      <th>Job Role Match</th>\n",
       "      <th>New location</th>\n",
       "      <th>B1</th>\n",
       "      <th>B2</th>\n",
       "      <th>B3</th>\n",
       "      <th>...</th>\n",
       "      <th>Sales</th>\n",
       "      <th>Female</th>\n",
       "      <th>Male</th>\n",
       "      <th>Div.</th>\n",
       "      <th>Marr.</th>\n",
       "      <th>NTBD</th>\n",
       "      <th>Sep.</th>\n",
       "      <th>Agency</th>\n",
       "      <th>Direct</th>\n",
       "      <th>Stay/Left</th>\n",
       "    </tr>\n",
       "  </thead>\n",
       "  <tbody>\n",
       "    <tr>\n",
       "      <th>0</th>\n",
       "      <td>0.00</td>\n",
       "      <td>0</td>\n",
       "      <td>6.08</td>\n",
       "      <td>27.12</td>\n",
       "      <td>0</td>\n",
       "      <td>1</td>\n",
       "      <td>4</td>\n",
       "      <td>0</td>\n",
       "      <td>1</td>\n",
       "      <td>0</td>\n",
       "      <td>...</td>\n",
       "      <td>0</td>\n",
       "      <td>0</td>\n",
       "      <td>1</td>\n",
       "      <td>0</td>\n",
       "      <td>0</td>\n",
       "      <td>0</td>\n",
       "      <td>0</td>\n",
       "      <td>0</td>\n",
       "      <td>1</td>\n",
       "      <td>0</td>\n",
       "    </tr>\n",
       "    <tr>\n",
       "      <th>1</th>\n",
       "      <td>0.00</td>\n",
       "      <td>0</td>\n",
       "      <td>13.00</td>\n",
       "      <td>38.08</td>\n",
       "      <td>1</td>\n",
       "      <td>0</td>\n",
       "      <td>7</td>\n",
       "      <td>0</td>\n",
       "      <td>0</td>\n",
       "      <td>0</td>\n",
       "      <td>...</td>\n",
       "      <td>0</td>\n",
       "      <td>0</td>\n",
       "      <td>1</td>\n",
       "      <td>0</td>\n",
       "      <td>1</td>\n",
       "      <td>0</td>\n",
       "      <td>0</td>\n",
       "      <td>0</td>\n",
       "      <td>1</td>\n",
       "      <td>1</td>\n",
       "    </tr>\n",
       "    <tr>\n",
       "      <th>2</th>\n",
       "      <td>0.01</td>\n",
       "      <td>0</td>\n",
       "      <td>16.05</td>\n",
       "      <td>36.04</td>\n",
       "      <td>1</td>\n",
       "      <td>1</td>\n",
       "      <td>6</td>\n",
       "      <td>0</td>\n",
       "      <td>0</td>\n",
       "      <td>1</td>\n",
       "      <td>...</td>\n",
       "      <td>0</td>\n",
       "      <td>0</td>\n",
       "      <td>1</td>\n",
       "      <td>0</td>\n",
       "      <td>1</td>\n",
       "      <td>0</td>\n",
       "      <td>0</td>\n",
       "      <td>0</td>\n",
       "      <td>1</td>\n",
       "      <td>1</td>\n",
       "    </tr>\n",
       "    <tr>\n",
       "      <th>3</th>\n",
       "      <td>0.01</td>\n",
       "      <td>0</td>\n",
       "      <td>6.06</td>\n",
       "      <td>32.07</td>\n",
       "      <td>1</td>\n",
       "      <td>1</td>\n",
       "      <td>7</td>\n",
       "      <td>0</td>\n",
       "      <td>1</td>\n",
       "      <td>0</td>\n",
       "      <td>...</td>\n",
       "      <td>0</td>\n",
       "      <td>0</td>\n",
       "      <td>1</td>\n",
       "      <td>0</td>\n",
       "      <td>1</td>\n",
       "      <td>0</td>\n",
       "      <td>0</td>\n",
       "      <td>0</td>\n",
       "      <td>1</td>\n",
       "      <td>1</td>\n",
       "    </tr>\n",
       "    <tr>\n",
       "      <th>4</th>\n",
       "      <td>0.00</td>\n",
       "      <td>0</td>\n",
       "      <td>7.00</td>\n",
       "      <td>32.05</td>\n",
       "      <td>0</td>\n",
       "      <td>1</td>\n",
       "      <td>0</td>\n",
       "      <td>0</td>\n",
       "      <td>1</td>\n",
       "      <td>0</td>\n",
       "      <td>...</td>\n",
       "      <td>0</td>\n",
       "      <td>0</td>\n",
       "      <td>1</td>\n",
       "      <td>0</td>\n",
       "      <td>1</td>\n",
       "      <td>0</td>\n",
       "      <td>0</td>\n",
       "      <td>0</td>\n",
       "      <td>1</td>\n",
       "      <td>1</td>\n",
       "    </tr>\n",
       "    <tr>\n",
       "      <th>...</th>\n",
       "      <td>...</td>\n",
       "      <td>...</td>\n",
       "      <td>...</td>\n",
       "      <td>...</td>\n",
       "      <td>...</td>\n",
       "      <td>...</td>\n",
       "      <td>...</td>\n",
       "      <td>...</td>\n",
       "      <td>...</td>\n",
       "      <td>...</td>\n",
       "      <td>...</td>\n",
       "      <td>...</td>\n",
       "      <td>...</td>\n",
       "      <td>...</td>\n",
       "      <td>...</td>\n",
       "      <td>...</td>\n",
       "      <td>...</td>\n",
       "      <td>...</td>\n",
       "      <td>...</td>\n",
       "      <td>...</td>\n",
       "      <td>...</td>\n",
       "    </tr>\n",
       "    <tr>\n",
       "      <th>896</th>\n",
       "      <td>0.03</td>\n",
       "      <td>0</td>\n",
       "      <td>0.03</td>\n",
       "      <td>24.06</td>\n",
       "      <td>0</td>\n",
       "      <td>1</td>\n",
       "      <td>0</td>\n",
       "      <td>1</td>\n",
       "      <td>0</td>\n",
       "      <td>0</td>\n",
       "      <td>...</td>\n",
       "      <td>0</td>\n",
       "      <td>0</td>\n",
       "      <td>1</td>\n",
       "      <td>0</td>\n",
       "      <td>0</td>\n",
       "      <td>0</td>\n",
       "      <td>0</td>\n",
       "      <td>0</td>\n",
       "      <td>1</td>\n",
       "      <td>1</td>\n",
       "    </tr>\n",
       "    <tr>\n",
       "      <th>897</th>\n",
       "      <td>0.03</td>\n",
       "      <td>0</td>\n",
       "      <td>0.03</td>\n",
       "      <td>21.09</td>\n",
       "      <td>0</td>\n",
       "      <td>1</td>\n",
       "      <td>0</td>\n",
       "      <td>1</td>\n",
       "      <td>0</td>\n",
       "      <td>0</td>\n",
       "      <td>...</td>\n",
       "      <td>0</td>\n",
       "      <td>1</td>\n",
       "      <td>0</td>\n",
       "      <td>0</td>\n",
       "      <td>0</td>\n",
       "      <td>0</td>\n",
       "      <td>0</td>\n",
       "      <td>0</td>\n",
       "      <td>1</td>\n",
       "      <td>1</td>\n",
       "    </tr>\n",
       "    <tr>\n",
       "      <th>898</th>\n",
       "      <td>0.03</td>\n",
       "      <td>0</td>\n",
       "      <td>0.03</td>\n",
       "      <td>22.02</td>\n",
       "      <td>0</td>\n",
       "      <td>1</td>\n",
       "      <td>0</td>\n",
       "      <td>1</td>\n",
       "      <td>0</td>\n",
       "      <td>0</td>\n",
       "      <td>...</td>\n",
       "      <td>0</td>\n",
       "      <td>1</td>\n",
       "      <td>0</td>\n",
       "      <td>0</td>\n",
       "      <td>0</td>\n",
       "      <td>0</td>\n",
       "      <td>0</td>\n",
       "      <td>0</td>\n",
       "      <td>1</td>\n",
       "      <td>0</td>\n",
       "    </tr>\n",
       "    <tr>\n",
       "      <th>900</th>\n",
       "      <td>0.03</td>\n",
       "      <td>0</td>\n",
       "      <td>0.03</td>\n",
       "      <td>22.02</td>\n",
       "      <td>0</td>\n",
       "      <td>1</td>\n",
       "      <td>0</td>\n",
       "      <td>1</td>\n",
       "      <td>0</td>\n",
       "      <td>0</td>\n",
       "      <td>...</td>\n",
       "      <td>0</td>\n",
       "      <td>1</td>\n",
       "      <td>0</td>\n",
       "      <td>0</td>\n",
       "      <td>0</td>\n",
       "      <td>0</td>\n",
       "      <td>0</td>\n",
       "      <td>0</td>\n",
       "      <td>1</td>\n",
       "      <td>1</td>\n",
       "    </tr>\n",
       "    <tr>\n",
       "      <th>901</th>\n",
       "      <td>0.02</td>\n",
       "      <td>0</td>\n",
       "      <td>10.02</td>\n",
       "      <td>32.08</td>\n",
       "      <td>0</td>\n",
       "      <td>0</td>\n",
       "      <td>1</td>\n",
       "      <td>0</td>\n",
       "      <td>1</td>\n",
       "      <td>0</td>\n",
       "      <td>...</td>\n",
       "      <td>0</td>\n",
       "      <td>0</td>\n",
       "      <td>1</td>\n",
       "      <td>0</td>\n",
       "      <td>1</td>\n",
       "      <td>0</td>\n",
       "      <td>0</td>\n",
       "      <td>0</td>\n",
       "      <td>1</td>\n",
       "      <td>1</td>\n",
       "    </tr>\n",
       "  </tbody>\n",
       "</table>\n",
       "<p>896 rows × 21 columns</p>\n",
       "</div>"
      ],
      "text/plain": [
       "     Tenure  Tenure Grp.  Experience (YY.MM)  Age in YY.  \\\n",
       "0      0.00            0                6.08       27.12   \n",
       "1      0.00            0               13.00       38.08   \n",
       "2      0.01            0               16.05       36.04   \n",
       "3      0.01            0                6.06       32.07   \n",
       "4      0.00            0                7.00       32.05   \n",
       "..      ...          ...                 ...         ...   \n",
       "896    0.03            0                0.03       24.06   \n",
       "897    0.03            0                0.03       21.09   \n",
       "898    0.03            0                0.03       22.02   \n",
       "900    0.03            0                0.03       22.02   \n",
       "901    0.02            0               10.02       32.08   \n",
       "\n",
       "     Promoted/Non Promoted  Job Role Match  New location  B1  B2  B3  ...  \\\n",
       "0                        0               1             4   0   1   0  ...   \n",
       "1                        1               0             7   0   0   0  ...   \n",
       "2                        1               1             6   0   0   1  ...   \n",
       "3                        1               1             7   0   1   0  ...   \n",
       "4                        0               1             0   0   1   0  ...   \n",
       "..                     ...             ...           ...  ..  ..  ..  ...   \n",
       "896                      0               1             0   1   0   0  ...   \n",
       "897                      0               1             0   1   0   0  ...   \n",
       "898                      0               1             0   1   0   0  ...   \n",
       "900                      0               1             0   1   0   0  ...   \n",
       "901                      0               0             1   0   1   0  ...   \n",
       "\n",
       "     Sales  Female  Male  Div.  Marr.  NTBD  Sep.  Agency  Direct  Stay/Left  \n",
       "0        0       0     1     0      0     0     0       0       1          0  \n",
       "1        0       0     1     0      1     0     0       0       1          1  \n",
       "2        0       0     1     0      1     0     0       0       1          1  \n",
       "3        0       0     1     0      1     0     0       0       1          1  \n",
       "4        0       0     1     0      1     0     0       0       1          1  \n",
       "..     ...     ...   ...   ...    ...   ...   ...     ...     ...        ...  \n",
       "896      0       0     1     0      0     0     0       0       1          1  \n",
       "897      0       1     0     0      0     0     0       0       1          1  \n",
       "898      0       1     0     0      0     0     0       0       1          0  \n",
       "900      0       1     0     0      0     0     0       0       1          1  \n",
       "901      0       0     1     0      1     0     0       0       1          1  \n",
       "\n",
       "[896 rows x 21 columns]"
      ]
     },
     "execution_count": 59,
     "metadata": {},
     "output_type": "execute_result"
    }
   ],
   "source": [
    "new_dataset=dataset[['Tenure', 'Tenure Grp.', 'Experience (YY.MM)', 'Age in YY.',\n",
    "       'Promoted/Non Promoted', 'Job Role Match', 'New location',\n",
    "       'B1', 'B2', 'B3', 'Operation', 'Sales', 'Female', 'Male', 'Div.',\n",
    "       'Marr.', 'NTBD', 'Sep.', 'Agency', 'Direct','Stay/Left']]\n",
    "new_dataset"
   ]
  },
  {
   "cell_type": "code",
   "execution_count": 60,
   "id": "56307a66",
   "metadata": {},
   "outputs": [
    {
     "data": {
      "image/png": "[encoded data removed]",
      "text/plain": [
       "<Figure size 1080x720 with 2 Axes>"
      ]
     },
     "metadata": {
      "needs_background": "light"
     },
     "output_type": "display_data"
    }
   ],
   "source": [
    "cm=new_dataset.corr()\n",
    "fig,ax=plt.subplots(figsize=(15,10))\n",
    "ax=sns.heatmap(cm,annot=True,linewidth=0.5,fmt='.2f')"
   ]
  },
  {
   "cell_type": "code",
   "execution_count": 61,
   "id": "009801f4",
   "metadata": {},
   "outputs": [],
   "source": [
    "X=new_dataset.drop(['Stay/Left'],axis=1)\n",
    "Y=new_dataset[['Stay/Left']]"
   ]
  },
  {
   "cell_type": "code",
   "execution_count": 62,
   "id": "cbf703a6",
   "metadata": {},
   "outputs": [],
   "source": [
    "from sklearn.model_selection import train_test_split\n",
    "X_train,X_test,Y_train,Y_test=train_test_split(X,Y,test_size=0.3,random_state=42)"
   ]
  },
  {
   "cell_type": "code",
   "execution_count": 63,
   "id": "6622f153",
   "metadata": {},
   "outputs": [],
   "source": [
    "#model devlopment....\n",
    "from sklearn.linear_model import LogisticRegression\n",
    "from sklearn.tree import DecisionTreeClassifier\n",
    "from sklearn.ensemble import RandomForestClassifier\n",
    "from sklearn.naive_bayes import GaussianNB\n",
    "from sklearn.neighbors import KNeighborsClassifier\n",
    "from sklearn.svm import SVC\n",
    "import warnings\n",
    "warnings.filterwarnings('ignore')"
   ]
  },
  {
   "cell_type": "code",
   "execution_count": 65,
   "id": "13f04447",
   "metadata": {},
   "outputs": [],
   "source": [
    "lr=LogisticRegression(C = 0.1, random_state = 42, solver = 'liblinear')\n",
    "dt=DecisionTreeClassifier()\n",
    "rm=RandomForestClassifier()\n",
    "gnb=GaussianNB()\n",
    "knn=KNeighborsClassifier(n_neighbors=8)\n",
    "svm=SVC(kernel='linear')"
   ]
  },
  {
   "cell_type": "code",
   "execution_count": 66,
   "id": "60ab4f92",
   "metadata": {},
   "outputs": [
    {
     "name": "stdout",
     "output_type": "stream",
     "text": [
      "[Logistic Regression] training data accuracy is : 87.88\n",
      "[Logistic Regression] test data accuracy is : 89.96\n",
      "[Decision Tree] training data accuracy is : 99.84\n",
      "[Decision Tree] test data accuracy is : 85.13\n",
      "[KNN] training data accuracy is : 84.37\n",
      "[KNN] test data accuracy is : 78.44\n",
      "[SVM] training data accuracy is : 87.72\n",
      "[SVM] test data accuracy is : 89.96\n",
      "[Random Forest] training data accuracy is : 99.84\n",
      "[Random Forest] test data accuracy is : 88.10\n",
      "[Naive Bayes] training data accuracy is : 86.92\n",
      "[Naive Bayes] test data accuracy is : 87.73\n"
     ]
    }
   ],
   "source": [
    "for a,b in zip([lr,dt,knn,svm,rm,gnb],[\"Logistic Regression\",\"Decision Tree\",\"KNN\",\"SVM\",\"Random Forest\",\"Naive Bayes\"]):\n",
    "    a.fit(X_train,Y_train)\n",
    "    prediction=a.predict(X_train)\n",
    "    y_pred=a.predict(X_test)\n",
    "    score1=a.score(X_train,Y_train)\n",
    "    score=a.score(X_test,Y_test)\n",
    "    msg1=\"[%s] training data accuracy is : %.2f\" % (b,score1*100)\n",
    "    msg2=\"[%s] test data accuracy is : %.2f\" % (b,score*100)\n",
    "    print(msg1)\n",
    "    print(msg2)"
   ]
  },
  {
   "cell_type": "markdown",
   "id": "5b7e7af3",
   "metadata": {},
   "source": [
    "# Model Accuracy:"
   ]
  },
  {
   "cell_type": "code",
   "execution_count": 67,
   "id": "4c4e24d4",
   "metadata": {},
   "outputs": [
    {
     "data": {
      "text/plain": [
       "{'Logistic Regression': 89.96282527881041,\n",
       " 'KNN classifier': 78.43866171003717,\n",
       " 'Support Vector Machine': 89.96282527881041,\n",
       " 'Random forest': 88.10408921933085,\n",
       " 'Decision tree': 85.13011152416357,\n",
       " 'Naive Bayes': 87.73234200743495}"
      ]
     },
     "execution_count": 67,
     "metadata": {},
     "output_type": "execute_result"
    }
   ],
   "source": [
    "model_scores={'Logistic Regression' :lr.score(X_test,Y_test)*100,\n",
    "             'KNN classifier':knn.score(X_test,Y_test)*100,\n",
    "             'Support Vector Machine':svm.score(X_test,Y_test)*100,\n",
    "             'Random forest':rm.score(X_test,Y_test)*100,\n",
    "              'Decision tree':dt.score(X_test,Y_test)*100,\n",
    "              'Naive Bayes':gnb.score(X_test,Y_test)*100\n",
    "             }\n",
    "model_scores"
   ]
  },
  {
   "cell_type": "markdown",
   "id": "1aaaba20",
   "metadata": {},
   "source": [
    "# Classification report of random forest"
   ]
  },
  {
   "cell_type": "code",
   "execution_count": 68,
   "id": "bc29182c",
   "metadata": {},
   "outputs": [
    {
     "name": "stdout",
     "output_type": "stream",
     "text": [
      "              precision    recall  f1-score   support\n",
      "\n",
      "           0       0.84      0.76      0.80        84\n",
      "           1       0.90      0.94      0.92       185\n",
      "\n",
      "    accuracy                           0.88       269\n",
      "   macro avg       0.87      0.85      0.86       269\n",
      "weighted avg       0.88      0.88      0.88       269\n",
      "\n"
     ]
    }
   ],
   "source": [
    "from sklearn.metrics import classification_report\n",
    "rm_pred=rm.predict(X_test)\n",
    "print(classification_report(Y_test,rm_pred))"
   ]
  },
  {
   "cell_type": "markdown",
   "id": "138354ac",
   "metadata": {},
   "source": [
    "# Classification Report of Logistic Regression"
   ]
  },
  {
   "cell_type": "code",
   "execution_count": 69,
   "id": "178ef714",
   "metadata": {},
   "outputs": [
    {
     "name": "stdout",
     "output_type": "stream",
     "text": [
      "              precision    recall  f1-score   support\n",
      "\n",
      "           0       0.83      0.86      0.84        84\n",
      "           1       0.93      0.92      0.93       185\n",
      "\n",
      "    accuracy                           0.90       269\n",
      "   macro avg       0.88      0.89      0.88       269\n",
      "weighted avg       0.90      0.90      0.90       269\n",
      "\n"
     ]
    }
   ],
   "source": [
    "from sklearn.metrics import classification_report\n",
    "lr_pred = lr.predict(X_test)\n",
    "print(classification_report(Y_test,lr_pred))"
   ]
  },
  {
   "cell_type": "markdown",
   "id": "0263b23f",
   "metadata": {},
   "source": [
    "# Model Comparison\n",
    "Based on the accuracy"
   ]
  },
  {
   "cell_type": "code",
   "execution_count": 70,
   "id": "ef4a1496",
   "metadata": {},
   "outputs": [
    {
     "data": {
      "text/html": [
       "<div>\n",
       "<style scoped>\n",
       "    .dataframe tbody tr th:only-of-type {\n",
       "        vertical-align: middle;\n",
       "    }\n",
       "\n",
       "    .dataframe tbody tr th {\n",
       "        vertical-align: top;\n",
       "    }\n",
       "\n",
       "    .dataframe thead th {\n",
       "        text-align: right;\n",
       "    }\n",
       "</style>\n",
       "<table border=\"1\" class=\"dataframe\">\n",
       "  <thead>\n",
       "    <tr style=\"text-align: right;\">\n",
       "      <th></th>\n",
       "      <th>Logistic Regression</th>\n",
       "      <th>KNN classifier</th>\n",
       "      <th>Support Vector Machine</th>\n",
       "      <th>Random forest</th>\n",
       "      <th>Decision tree</th>\n",
       "      <th>Naive Bayes</th>\n",
       "    </tr>\n",
       "  </thead>\n",
       "  <tbody>\n",
       "    <tr>\n",
       "      <th>accuracy</th>\n",
       "      <td>89.962825</td>\n",
       "      <td>78.438662</td>\n",
       "      <td>89.962825</td>\n",
       "      <td>88.104089</td>\n",
       "      <td>85.130112</td>\n",
       "      <td>87.732342</td>\n",
       "    </tr>\n",
       "  </tbody>\n",
       "</table>\n",
       "</div>"
      ],
      "text/plain": [
       "          Logistic Regression  KNN classifier  Support Vector Machine  \\\n",
       "accuracy            89.962825       78.438662               89.962825   \n",
       "\n",
       "          Random forest  Decision tree  Naive Bayes  \n",
       "accuracy      88.104089      85.130112    87.732342  "
      ]
     },
     "execution_count": 70,
     "metadata": {},
     "output_type": "execute_result"
    }
   ],
   "source": [
    "model_compare=pd.DataFrame(model_scores,index=['accuracy'])\n",
    "model_compare"
   ]
  },
  {
   "cell_type": "markdown",
   "id": "10fa6a76",
   "metadata": {},
   "source": [
    "# Visualize the accuracy of each model"
   ]
  },
  {
   "cell_type": "code",
   "execution_count": 71,
   "id": "c0742474",
   "metadata": {},
   "outputs": [
    {
     "data": {
      "image/png": "[encoded data removed]",
      "text/plain": [
       "<Figure size 432x288 with 1 Axes>"
      ]
     },
     "metadata": {
      "needs_background": "light"
     },
     "output_type": "display_data"
    }
   ],
   "source": [
    "model_compare.T.plot(kind='bar')\n",
    "# (T is here for transpose)\n",
    "plt.xticks(rotation=30)\n",
    "plt.show()"
   ]
  },
  {
   "cell_type": "markdown",
   "id": "dc520e9a",
   "metadata": {},
   "source": [
    "# Feature importance\n",
    "These “coef’s” tell how much and in what way did each one of them contribute to predicting the target variable"
   ]
  },
  {
   "cell_type": "code",
   "execution_count": 74,
   "id": "f70eecf1",
   "metadata": {},
   "outputs": [
    {
     "data": {
      "text/plain": [
       "{'Tenure': 0.05643351130563382,\n",
       " 'Tenure Grp.': -0.08009785534036246,\n",
       " 'Experience (YY.MM)': 0.14748722907893846,\n",
       " 'Age in YY.': -0.02605906353194611,\n",
       " 'Promoted/Non Promoted': 0.17971650814106283,\n",
       " 'Job Role Match': 2.580438554879136,\n",
       " 'New location': -0.011457237441450628,\n",
       " 'B1': -0.2686200156335664,\n",
       " 'B2': 0.10848404105577422,\n",
       " 'B3': -0.08480845640624743,\n",
       " 'Operation': -0.13572254440737874,\n",
       " 'Sales': -0.034623255912749645,\n",
       " 'Female': 0.08808162493885094,\n",
       " 'Male': -0.2504162659821125,\n",
       " 'Div.': 0.013097304250849996,\n",
       " 'Marr.': 0.6506272046744535,\n",
       " 'NTBD': -0.029729570756274762,\n",
       " 'Sep.': -0.022135404909654335,\n",
       " 'Agency': -0.3305554436303293,\n",
       " 'Direct': -0.058844401293025386}"
      ]
     },
     "execution_count": 74,
     "metadata": {},
     "output_type": "execute_result"
    }
   ],
   "source": [
    "# Logistic regression\n",
    "feature_dict=dict(zip(new_dataset.columns,list(lr.coef_[0])))\n",
    "feature_dict"
   ]
  },
  {
   "cell_type": "markdown",
   "id": "418c24f7",
   "metadata": {},
   "source": [
    "# Visualize feature importance"
   ]
  },
  {
   "cell_type": "code",
   "execution_count": 76,
   "id": "f0fdc87e",
   "metadata": {},
   "outputs": [
    {
     "data": {
      "text/html": [
       "<div>\n",
       "<style scoped>\n",
       "    .dataframe tbody tr th:only-of-type {\n",
       "        vertical-align: middle;\n",
       "    }\n",
       "\n",
       "    .dataframe tbody tr th {\n",
       "        vertical-align: top;\n",
       "    }\n",
       "\n",
       "    .dataframe thead th {\n",
       "        text-align: right;\n",
       "    }\n",
       "</style>\n",
       "<table border=\"1\" class=\"dataframe\">\n",
       "  <thead>\n",
       "    <tr style=\"text-align: right;\">\n",
       "      <th></th>\n",
       "      <th>Tenure</th>\n",
       "      <th>Tenure Grp.</th>\n",
       "      <th>Experience (YY.MM)</th>\n",
       "      <th>Age in YY.</th>\n",
       "      <th>Promoted/Non Promoted</th>\n",
       "      <th>Job Role Match</th>\n",
       "      <th>New location</th>\n",
       "      <th>B1</th>\n",
       "      <th>B2</th>\n",
       "      <th>B3</th>\n",
       "      <th>Operation</th>\n",
       "      <th>Sales</th>\n",
       "      <th>Female</th>\n",
       "      <th>Male</th>\n",
       "      <th>Div.</th>\n",
       "      <th>Marr.</th>\n",
       "      <th>NTBD</th>\n",
       "      <th>Sep.</th>\n",
       "      <th>Agency</th>\n",
       "      <th>Direct</th>\n",
       "    </tr>\n",
       "  </thead>\n",
       "  <tbody>\n",
       "    <tr>\n",
       "      <th>0</th>\n",
       "      <td>0.056434</td>\n",
       "      <td>-0.080098</td>\n",
       "      <td>0.147487</td>\n",
       "      <td>-0.026059</td>\n",
       "      <td>0.179717</td>\n",
       "      <td>2.580439</td>\n",
       "      <td>-0.011457</td>\n",
       "      <td>-0.26862</td>\n",
       "      <td>0.108484</td>\n",
       "      <td>-0.084808</td>\n",
       "      <td>-0.135723</td>\n",
       "      <td>-0.034623</td>\n",
       "      <td>0.088082</td>\n",
       "      <td>-0.250416</td>\n",
       "      <td>0.013097</td>\n",
       "      <td>0.650627</td>\n",
       "      <td>-0.02973</td>\n",
       "      <td>-0.022135</td>\n",
       "      <td>-0.330555</td>\n",
       "      <td>-0.058844</td>\n",
       "    </tr>\n",
       "  </tbody>\n",
       "</table>\n",
       "</div>"
      ],
      "text/plain": [
       "     Tenure  Tenure Grp.  Experience (YY.MM)  Age in YY.  \\\n",
       "0  0.056434    -0.080098            0.147487   -0.026059   \n",
       "\n",
       "   Promoted/Non Promoted  Job Role Match  New location       B1        B2  \\\n",
       "0               0.179717        2.580439     -0.011457 -0.26862  0.108484   \n",
       "\n",
       "         B3  Operation     Sales    Female      Male      Div.     Marr.  \\\n",
       "0 -0.084808  -0.135723 -0.034623  0.088082 -0.250416  0.013097  0.650627   \n",
       "\n",
       "      NTBD      Sep.    Agency    Direct  \n",
       "0 -0.02973 -0.022135 -0.330555 -0.058844  "
      ]
     },
     "execution_count": 76,
     "metadata": {},
     "output_type": "execute_result"
    }
   ],
   "source": [
    "feature_df=pd.DataFrame(feature_dict,index=[0])\n",
    "feature_df"
   ]
  },
  {
   "cell_type": "code",
   "execution_count": 77,
   "id": "3f9d915b",
   "metadata": {},
   "outputs": [
    {
     "data": {
      "text/plain": [
       "<AxesSubplot:title={'center':'Feature Importance'}>"
      ]
     },
     "execution_count": 77,
     "metadata": {},
     "output_type": "execute_result"
    },
    {
     "data": {
      "image/png": "[encoded data removed]",
      "text/plain": [
       "<Figure size 432x288 with 1 Axes>"
      ]
     },
     "metadata": {
      "needs_background": "light"
     },
     "output_type": "display_data"
    }
   ],
   "source": [
    "feature_df=pd.DataFrame(feature_dict,index=[0])\n",
    "feature_df.T.plot(kind=\"bar\",legend=False,title=\"Feature Importance\")"
   ]
  },
  {
   "cell_type": "markdown",
   "id": "9e50d1d6",
   "metadata": {},
   "source": [
    "As we can see Job role match has highest feature importance."
   ]
  },
  {
   "cell_type": "markdown",
   "id": "11e39edf",
   "metadata": {},
   "source": [
    "# Saving the best Models...."
   ]
  },
  {
   "cell_type": "code",
   "execution_count": 79,
   "id": "f7715681",
   "metadata": {},
   "outputs": [
    {
     "data": {
      "text/plain": [
       "array([1, 1, 0, 0, 1, 1, 1, 1, 0, 1, 1, 0, 1, 1, 0, 0, 0, 1, 1, 0, 0, 0,\n",
       "       0, 0, 1, 1, 0, 1, 1, 1, 1, 0, 1, 1, 1, 1, 1, 1, 1, 0, 0, 1, 1, 1,\n",
       "       0, 1, 1, 1, 1, 1, 1, 1, 0, 1, 1, 1, 1, 1, 1, 1, 1, 1, 1, 0, 1, 1,\n",
       "       1, 1, 1, 1, 0, 0, 0, 1, 1, 1, 1, 0, 1, 0, 1, 1, 1, 1, 0, 1, 0, 0,\n",
       "       1, 1, 1, 0, 0, 0, 1, 1, 1, 1, 1, 0, 0, 0, 1, 0, 1, 1, 0, 1, 1, 1,\n",
       "       1, 1, 1, 1, 1, 0, 1, 1, 1, 1, 1, 1, 1, 1, 1, 0, 1, 1, 0, 1, 0, 1,\n",
       "       0, 0, 1, 1, 1, 1, 1, 1, 1, 1, 1, 1, 0, 1, 1, 0, 1, 1, 0, 1, 1, 1,\n",
       "       1, 0, 1, 1, 1, 0, 1, 1, 0, 0, 1, 1, 1, 0, 1, 1, 0, 1, 1, 0, 1, 1,\n",
       "       0, 1, 0, 1, 1, 1, 1, 1, 0, 1, 1, 0, 1, 0, 1, 1, 0, 1, 0, 1, 0, 0,\n",
       "       1, 1, 1, 0, 0, 0, 1, 1, 0, 1, 1, 1, 0, 0, 0, 1, 0, 0, 1, 1, 1, 0,\n",
       "       1, 0, 0, 0, 1, 1, 1, 0, 1, 1, 0, 1, 0, 1, 0, 0, 1, 0, 1, 1, 1, 0,\n",
       "       1, 1, 0, 1, 0, 1, 1, 0, 1, 1, 1, 0, 0, 1, 1, 0, 1, 0, 1, 1, 1, 1,\n",
       "       1, 1, 1, 1, 1])"
      ]
     },
     "execution_count": 79,
     "metadata": {},
     "output_type": "execute_result"
    }
   ],
   "source": [
    "#Approch 1\n",
    "import pickle\n",
    "#save the trianed model as pickle string...\n",
    "saved_model=pickle.dumps(lr)\n",
    "ir_pickle=pickle.loads(saved_model)\n",
    "#use the loaded pickle model to make prediction\n",
    "ir_pickle.predict(X_test)"
   ]
  },
  {
   "cell_type": "code",
   "execution_count": 82,
   "id": "d7a6e15e",
   "metadata": {},
   "outputs": [
    {
     "data": {
      "text/plain": [
       "array([1, 1, 0, 0, 1, 1, 1, 1, 0, 1, 1, 0, 1, 1, 0, 0, 0, 1, 1, 0, 0, 0,\n",
       "       0, 0, 1, 1, 0, 1, 1, 1, 1, 0, 1, 1, 1, 1, 1, 1, 1, 0, 0, 1, 1, 1,\n",
       "       0, 1, 1, 1, 1, 1, 1, 1, 0, 1, 1, 1, 1, 1, 1, 1, 1, 1, 1, 0, 1, 1,\n",
       "       1, 1, 1, 1, 0, 0, 0, 1, 1, 1, 1, 0, 1, 0, 1, 1, 1, 1, 0, 1, 0, 0,\n",
       "       1, 1, 1, 0, 0, 0, 1, 1, 1, 1, 1, 0, 0, 0, 1, 0, 1, 1, 0, 1, 1, 1,\n",
       "       1, 1, 1, 1, 1, 0, 1, 1, 1, 1, 1, 1, 1, 1, 1, 0, 1, 1, 0, 1, 0, 1,\n",
       "       0, 0, 1, 1, 1, 1, 1, 1, 1, 1, 1, 1, 0, 1, 1, 0, 1, 1, 0, 1, 1, 1,\n",
       "       1, 0, 1, 1, 1, 0, 1, 1, 0, 0, 1, 1, 1, 0, 1, 1, 0, 1, 1, 0, 1, 1,\n",
       "       0, 1, 0, 1, 1, 1, 1, 1, 0, 1, 1, 0, 1, 0, 1, 1, 0, 1, 0, 1, 0, 0,\n",
       "       1, 1, 1, 0, 0, 0, 1, 1, 0, 1, 1, 1, 0, 0, 0, 1, 0, 0, 1, 1, 1, 0,\n",
       "       1, 0, 0, 0, 1, 1, 1, 0, 1, 1, 0, 1, 0, 1, 0, 0, 1, 0, 1, 1, 1, 0,\n",
       "       1, 1, 0, 1, 0, 1, 1, 0, 1, 1, 1, 0, 0, 1, 1, 0, 1, 0, 1, 1, 1, 1,\n",
       "       1, 1, 1, 1, 1])"
      ]
     },
     "execution_count": 82,
     "metadata": {},
     "output_type": "execute_result"
    }
   ],
   "source": [
    "#Approach 2\n",
    "import joblib\n",
    "save_model=joblib.dump(lr,'lr_model')\n",
    "lr_joblib=joblib.load('lr_model')\n",
    "lr_joblib.predict(X_test)"
   ]
  },
  {
   "cell_type": "code",
   "execution_count": null,
   "id": "50a77394",
   "metadata": {},
   "outputs": [],
   "source": []
  }
 ],
 "metadata": {
  "kernelspec": {
   "display_name": "Python 3",
   "language": "python",
   "name": "python3"
  },
  "language_info": {
   "codemirror_mode": {
    "name": "ipython",
    "version": 3
   },
   "file_extension": ".py",
   "mimetype": "text/x-python",
   "name": "python",
   "nbconvert_exporter": "python",
   "pygments_lexer": "ipython3",
   "version": "3.8.8"
  }
 },
 "nbformat": 4,
 "nbformat_minor": 5
}
